{
 "cells": [
  {
   "cell_type": "markdown",
   "id": "11b6bf95-2891-4b65-aca8-51096917ca2f",
   "metadata": {},
   "source": [
    "#Dictionary"
   ]
  },
  {
   "cell_type": "code",
   "execution_count": null,
   "id": "c0b46f32-c719-42ab-afec-09da356949b1",
   "metadata": {},
   "outputs": [],
   "source": [
    "Dictionaries are used to store data values in key:value pairs.\n",
    "\n",
    "A dictionary is a collection which is ordered*, changeable and do not allow duplicates.\n",
    "\n",
    "As of Python version 3.7, dictionaries are ordered. In Python 3.6 and earlier, dictionaries are unordered.\n",
    "\n",
    "Dictionaries are written with curly brackets, and have keys and values"
   ]
  },
  {
   "cell_type": "code",
   "execution_count": 4,
   "id": "e699c153-5417-4723-986c-0b743a92a62c",
   "metadata": {},
   "outputs": [
    {
     "name": "stdout",
     "output_type": "stream",
     "text": [
      "{'brand': 'Fosil', 'model': 'good', 'year': 1968}\n"
     ]
    }
   ],
   "source": [
    "dict = {\"brand\": \"Fosil\",\n",
    "  \"model\": \"good\",\n",
    "  \"year\": 1968}\n",
    "  print(dict)"
   ]
  },
  {
   "cell_type": "code",
   "execution_count": null,
   "id": "2ecf70d2-18d2-4974-bb1c-fcaa63a38af5",
   "metadata": {},
   "outputs": [],
   "source": [
    "Dictionary Items\n",
    "Dictionary items are ordered, changeable, and do not allow duplicates.\n",
    "\n",
    "Dictionary items are presented in key:value pairs, and can be referred to by using the key name"
   ]
  },
  {
   "cell_type": "code",
   "execution_count": 6,
   "id": "5977a751-0a4a-46ee-b812-599f8e104e41",
   "metadata": {},
   "outputs": [
    {
     "name": "stdout",
     "output_type": "stream",
     "text": [
      "Fosil\n"
     ]
    }
   ],
   "source": [
    "dict = {\"brand\": \"Fosil\",\n",
    "  \"model\": \"good\",\n",
    "  \"year\": 1968}\n",
    "print(dict[\"brand\"])"
   ]
  },
  {
   "cell_type": "code",
   "execution_count": null,
   "id": "4771c945-2d73-4998-b967-a07676e583ed",
   "metadata": {},
   "outputs": [],
   "source": [
    "Duplicates Not Allowed\n",
    "Dictionaries cannot have two items with the same key\n",
    "Duplicate values will overwrite existing values"
   ]
  },
  {
   "cell_type": "code",
   "execution_count": 24,
   "id": "0b5e5613-2901-47b4-b5d2-b73df9eab4f6",
   "metadata": {},
   "outputs": [
    {
     "name": "stdout",
     "output_type": "stream",
     "text": [
      "{'brand': 'Ford', 'model': 'Mustang', 'year': 2020}\n"
     ]
    }
   ],
   "source": [
    "thisdict = {\n",
    "  \"brand\": \"Ford\",\n",
    "  \"model\": \"Mustang\",\n",
    "  \"year\": 1964,\n",
    "  \"year\": 2020\n",
    "}\n",
    "print(thisdict)"
   ]
  },
  {
   "cell_type": "code",
   "execution_count": null,
   "id": "eb810291-bba9-4273-bb0c-7059f4abaaf2",
   "metadata": {},
   "outputs": [],
   "source": [
    "Dictionary Length\n",
    "To determine how many items a dictionary has, use the len() function:"
   ]
  },
  {
   "cell_type": "code",
   "execution_count": 26,
   "id": "9a0bbf09-6e27-43bc-9e3c-06f45673f089",
   "metadata": {},
   "outputs": [
    {
     "name": "stdout",
     "output_type": "stream",
     "text": [
      "3\n"
     ]
    }
   ],
   "source": [
    "#Print the number of items in the dictionary:\n",
    "print(len(dict))\n"
   ]
  },
  {
   "cell_type": "code",
   "execution_count": null,
   "id": "008da1fa-bec4-4374-ab51-c6d73b0e2b42",
   "metadata": {},
   "outputs": [],
   "source": [
    "Dictionary Items - Data Types\n",
    "The values in dictionary items can be of any data type:"
   ]
  },
  {
   "cell_type": "code",
   "execution_count": 30,
   "id": "382f5eb0-97ad-4ffd-b50a-3630df08a929",
   "metadata": {},
   "outputs": [
    {
     "name": "stdout",
     "output_type": "stream",
     "text": [
      "{'brand': 'nyka', 'electric': 'true', 'year': 2020, 'colors': ['blue', 'white', 'red']}\n"
     ]
    }
   ],
   "source": [
    "dict = {\n",
    "  \"brand\": \"nyka\",\n",
    "  \"electric\": \"true\",\n",
    "  \"year\": 2020,\n",
    "  \"colors\": [\"blue\", \"white\", \"red\"]\n",
    "}\n",
    "print(dict)"
   ]
  },
  {
   "cell_type": "code",
   "execution_count": null,
   "id": "e7301e16-e1dd-45c0-ab1a-8e5250ad6b26",
   "metadata": {},
   "outputs": [],
   "source": [
    "type()\n",
    "From Python's perspective, dictionaries are defined as objects with the data type 'dict':"
   ]
  },
  {
   "cell_type": "code",
   "execution_count": 34,
   "id": "ffb2db84-ab60-4c01-a188-ca50fca06d95",
   "metadata": {},
   "outputs": [
    {
     "name": "stdout",
     "output_type": "stream",
     "text": [
      "<class 'dict'>\n"
     ]
    }
   ],
   "source": [
    "#Print the data type of a dictionary\n",
    "dict = {\"brand\": \"Fosil\",\n",
    "  \"model\": \"good\",\n",
    "  \"year\": 1968}\n",
    "print(type(dict))"
   ]
  },
  {
   "cell_type": "code",
   "execution_count": 36,
   "id": "6f74f28d-dd87-47b8-aaa9-31125e45ef19",
   "metadata": {},
   "outputs": [
    {
     "name": "stdout",
     "output_type": "stream",
     "text": [
      "{'red': 'red color', 'black': 'black clor', 'white': 'whitecolor'}\n",
      "{'maths': 'count', 'science': 'trees', 'social': 'knoledge'}\n",
      "{'india': 'culture', 'japan': 'technology'}\n",
      "{'telangana': 'bathukamma', 'andrapradesh': 'sankranthi'}\n"
     ]
    }
   ],
   "source": [
    "flowers ={\"red\" : \"red color\", \"black\" : \"black clor\", \"white\" : \"whitecolor\"}\n",
    "print(flowers)\n",
    "subject = {\"maths\" : \"count\", \"science\":\"trees\" ,\"social\" : \"knoledge\"}\n",
    "print(subject)\n",
    "country={\"india\" : \"culture\" , \"japan\" : \"technology\"}\n",
    "print(country)\n",
    "state = {\"telangana\" : \"bathukamma\", \"andrapradesh\" : \"sankranthi\"}\n",
    "print(state)\n"
   ]
  },
  {
   "cell_type": "code",
   "execution_count": null,
   "id": "727875bd-449a-46be-bdba-c80d710fd358",
   "metadata": {},
   "outputs": [],
   "source": []
  }
 ],
 "metadata": {
  "kernelspec": {
   "display_name": "Python 3 (ipykernel)",
   "language": "python",
   "name": "python3"
  },
  "language_info": {
   "codemirror_mode": {
    "name": "ipython",
    "version": 3
   },
   "file_extension": ".py",
   "mimetype": "text/x-python",
   "name": "python",
   "nbconvert_exporter": "python",
   "pygments_lexer": "ipython3",
   "version": "3.12.4"
  }
 },
 "nbformat": 4,
 "nbformat_minor": 5
}
