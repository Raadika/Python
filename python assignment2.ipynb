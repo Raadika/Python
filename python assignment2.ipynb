{
 "cells": [
  {
   "cell_type": "code",
   "execution_count": 1,
   "id": "08045013-9ea2-47a7-98b0-fc91afda691f",
   "metadata": {},
   "outputs": [
    {
     "name": "stdout",
     "output_type": "stream",
     "text": [
      "Hello World!\n"
     ]
    }
   ],
   "source": [
    "#write a program to print hello world\n",
    "message = \"Hello World!\"\n",
    "print(message)"
   ]
  },
  {
   "cell_type": "code",
   "execution_count": 3,
   "id": "a678307c-7b34-47a3-8b0b-6ccc72c62f04",
   "metadata": {},
   "outputs": [
    {
     "name": "stdout",
     "output_type": "stream",
     "text": [
      "23\n"
     ]
    }
   ],
   "source": [
    "#write a program to calculate sum of 4 numbers\n",
    "a=2\n",
    "b=5\n",
    "c=7\n",
    "d=9\n",
    "sum=a+b+c+d\n",
    "print(sum)"
   ]
  },
  {
   "cell_type": "code",
   "execution_count": 5,
   "id": "a9ff21c3-a83f-451f-aae1-2d1b6ae3ce28",
   "metadata": {},
   "outputs": [
    {
     "name": "stdout",
     "output_type": "stream",
     "text": [
      "Student name: radhika\n",
      "Student age: 26 Years old\n",
      "Student  IS : 90\n"
     ]
    }
   ],
   "source": [
    "#Create a variables for storing a person name , age, and avg_score\n",
    "name=\"radhika\"\n",
    "age=\"26\"\n",
    "avg_score=\"90\"\n",
    "print(\"Student name:\", name)\n",
    "print(\"Student age:\", age ,\"Years old\") \n",
    "print(\"Student  IS :\",avg_score)"
   ]
  },
  {
   "cell_type": "code",
   "execution_count": 7,
   "id": "12fce3b3-33ca-4c4b-b7d1-c18edd03a8e3",
   "metadata": {},
   "outputs": [
    {
     "name": "stdout",
     "output_type": "stream",
     "text": [
      "iam radhika 8 years old\n"
     ]
    }
   ],
   "source": [
    "#Write a python program to Concatenation two strings\n",
    "a=\"iam radhika\"\n",
    "b=\"8 years old\"\n",
    "c=a+\" \"+b\n",
    "print(c)"
   ]
  },
  {
   "cell_type": "code",
   "execution_count": 9,
   "id": "def157e3-fb8e-4a97-8bcd-375e72e2e7f7",
   "metadata": {},
   "outputs": [
    {
     "data": {
      "text/plain": [
       "'beans'"
      ]
     },
     "execution_count": 9,
     "metadata": {},
     "output_type": "execute_result"
    }
   ],
   "source": [
    "#create a list of vegetables and access them using index\n",
    "vegitables=[\"carrot\",\"Brinjal\",\"potato\",\"tomato\",\"beans\",\"beetroot\"]\n",
    "vegitables[4]"
   ]
  },
  {
   "cell_type": "code",
   "execution_count": 11,
   "id": "dd79e099-9f1b-4f59-88b6-647d1dc83e89",
   "metadata": {},
   "outputs": [
    {
     "name": "stdout",
     "output_type": "stream",
     "text": [
      "47.00 Celsius is equivalent to: 116.60 Fahrenheit\n"
     ]
    }
   ],
   "source": [
    "#Python Program to convert temperature in celsius to fahrenheit\n",
    "# Temperature in celsius degree\n",
    "celsius = 47\n",
    " \n",
    "# Converting the temperature to\n",
    "# fehrenheit using the formula\n",
    "fahrenheit = (celsius * 1.8) + 32\n",
    " \n",
    "# printing the result\n",
    "print('%.2f Celsius is equivalent to: %.2f Fahrenheit'\n",
    "      % (celsius, fahrenheit))"
   ]
  },
  {
   "cell_type": "code",
   "execution_count": 13,
   "id": "d05121f4-a328-4faf-9a68-25e73c1fa18c",
   "metadata": {},
   "outputs": [
    {
     "name": "stdout",
     "output_type": "stream",
     "text": [
      "300\n"
     ]
    }
   ],
   "source": [
    "#write a python program to calculate area of rectangle by giving it length and width.\n",
    "length=15\n",
    "width=20\n",
    "area=length*width\n",
    "print(area)"
   ]
  },
  {
   "cell_type": "code",
   "execution_count": 15,
   "id": "b8d0d189-fba6-482e-b8d8-4d1add33028e",
   "metadata": {},
   "outputs": [
    {
     "name": "stdout",
     "output_type": "stream",
     "text": [
      "Minimum number list: 2\n",
      "Maximum number list: 865\n"
     ]
    }
   ],
   "source": [
    "#create list with numbers and identify max and min number in the list\n",
    "list = [2,5,74,92,94,865,12,748,90]\n",
    "a=min(list)\n",
    "print(\"Minimum number list:\", a)\n",
    "b=max(list)\n",
    "print(\"Maximum number list:\", b)"
   ]
  },
  {
   "cell_type": "code",
   "execution_count": 21,
   "id": "4c8f7c0b-016e-460d-9066-2a8d37463ec0",
   "metadata": {},
   "outputs": [
    {
     "name": "stdin",
     "output_type": "stream",
     "text": [
      "enter the number even or odd:  2\n"
     ]
    },
    {
     "name": "stdout",
     "output_type": "stream",
     "text": [
      "2 is Even\n"
     ]
    }
   ],
   "source": [
    "#write a python program to check if a number is even.\n",
    "num = int(input(\"enter the number even or odd: \"))\n",
    "if (num % 2) == 0:\n",
    "   print(\"{0} is Even\".format(num))\n",
    "else:\n",
    "   print(\"{0} is Odd\".format(num))"
   ]
  },
  {
   "cell_type": "code",
   "execution_count": 23,
   "id": "2752e733-a6e5-4e88-8dcf-31ad17d12e31",
   "metadata": {},
   "outputs": [
    {
     "name": "stdout",
     "output_type": "stream",
     "text": [
      "False\n",
      "False\n",
      "True\n",
      "False\n",
      "False\n"
     ]
    }
   ],
   "source": [
    "#write a python program to check if a string is contains numeric or not.(IF it contains it print true or false)\n",
    "a = \"radhika\" #unicode for 0\n",
    "b = \"flower\" #unicode for ²\n",
    "c = \"6\"\n",
    "d = \"-1\"\n",
    "e = \"1.5\"\n",
    "\n",
    "print(a.isnumeric())\n",
    "print(b.isnumeric())\n",
    "print(c.isnumeric())\n",
    "print(d.isnumeric())\n",
    "print(e.isnumeric())\n"
   ]
  },
  {
   "cell_type": "code",
   "execution_count": null,
   "id": "81f89792-ee3d-40e8-9103-77dff90cb00d",
   "metadata": {},
   "outputs": [],
   "source": []
  }
 ],
 "metadata": {
  "kernelspec": {
   "display_name": "Python 3 (ipykernel)",
   "language": "python",
   "name": "python3"
  },
  "language_info": {
   "codemirror_mode": {
    "name": "ipython",
    "version": 3
   },
   "file_extension": ".py",
   "mimetype": "text/x-python",
   "name": "python",
   "nbconvert_exporter": "python",
   "pygments_lexer": "ipython3",
   "version": "3.12.4"
  }
 },
 "nbformat": 4,
 "nbformat_minor": 5
}
