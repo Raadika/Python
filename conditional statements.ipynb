{
 "cells": [
  {
   "cell_type": "code",
   "execution_count": null,
   "id": "8514723f-4c5d-4cac-9b93-48a79f7ded10",
   "metadata": {},
   "outputs": [],
   "source": [
    "if statement:\n",
    "The if statement is used to test a condition. If the condition evaluates to True, the code inside the if block is executed."
   ]
  },
  {
   "cell_type": "code",
   "execution_count": 1,
   "id": "8403c7ae-0522-46ac-bd97-426e533d71a6",
   "metadata": {},
   "outputs": [
    {
     "name": "stdout",
     "output_type": "stream",
     "text": [
      "You are an adult.\n"
     ]
    }
   ],
   "source": [
    "age = 18\n",
    "if age >= 18:\n",
    "    print(\"You are an adult.\")"
   ]
  },
  {
   "cell_type": "code",
   "execution_count": null,
   "id": "b22c6407-eff3-4124-b84e-fca0268a477a",
   "metadata": {},
   "outputs": [],
   "source": [
    "else statement:\n",
    "The ELSE statement specifies that alternate processing is to take place when the conditions of the matching IF statement are not satisfied.\n",
    "The else statement is used in conjunction with if to execute a block of code when the if condition evaluates to False.\n",
    "The else block is optional but must follow an if or an elif block."
   ]
  },
  {
   "cell_type": "code",
   "execution_count": 3,
   "id": "e1e03ef9-284b-4cf7-98b2-0b3ec361f7a3",
   "metadata": {},
   "outputs": [
    {
     "name": "stdout",
     "output_type": "stream",
     "text": [
      "You are not an adult.\n"
     ]
    }
   ],
   "source": [
    "age = 16\n",
    "if age >= 18:\n",
    "    print(\"You are an adult.\")\n",
    "else:\n",
    "    print(\"You are not an adult.\")"
   ]
  },
  {
   "cell_type": "code",
   "execution_count": null,
   "id": "d6ff3211-a71d-4fb8-b55b-e4f20bae966c",
   "metadata": {},
   "outputs": [],
   "source": [
    "else if:\n",
    "The “elif” keyword in Python, stands for “else if”. It can be used in conditional statements to check for multiple conditions. For example, if the first condition is false, \n",
    "it moves on to the next “elif” statement to check if that condition is true."
   ]
  },
  {
   "cell_type": "code",
   "execution_count": 11,
   "id": "b96ad6f9-54d1-4972-ad4a-259beadde580",
   "metadata": {},
   "outputs": [
    {
     "name": "stdout",
     "output_type": "stream",
     "text": [
      "positive\n"
     ]
    }
   ],
   "source": [
    "num=23\n",
    "if num>0:\n",
    "    print(\"positive\")\n",
    "elif num < 0:\n",
    "    print(\"negitive\")\n",
    "else:\n",
    "    print(\"zero\")"
   ]
  },
  {
   "cell_type": "code",
   "execution_count": 17,
   "id": "c60a82f0-6054-490f-9374-4a1a03bfcc7c",
   "metadata": {},
   "outputs": [
    {
     "name": "stdout",
     "output_type": "stream",
     "text": [
      "not leap year\n"
     ]
    }
   ],
   "source": [
    "#write a python program to find leap year or not\n",
    "year=2021\n",
    "if (year%4==0 and year%100!=0):\n",
    "\n",
    "     print(\"leap year\")\n",
    "else:\n",
    "      print(\"not leap year\")"
   ]
  },
  {
   "cell_type": "code",
   "execution_count": 19,
   "id": "0bc9d8a8-bad3-4198-a6be-426c0e435f79",
   "metadata": {},
   "outputs": [
    {
     "name": "stdout",
     "output_type": "stream",
     "text": [
      "8\n"
     ]
    }
   ],
   "source": [
    "#write a program to find the maximum number among 3 numbers\n",
    "a=3\n",
    "b=7\n",
    "c=8\n",
    "print(max(a,b,c))"
   ]
  },
  {
   "cell_type": "code",
   "execution_count": 23,
   "id": "f87ccde4-c450-44f4-8438-1889658775c0",
   "metadata": {},
   "outputs": [
    {
     "name": "stdout",
     "output_type": "stream",
     "text": [
      "[3, 5, 5, 7, 3]\n",
      "[3, 5, 7]\n"
     ]
    }
   ],
   "source": [
    "mylist=[3,5,5,7,3]\n",
    "newlist=[]\n",
    "for i in mylist:\n",
    "  if i not in newlist:\n",
    "      \n",
    "   newlist.append(i)\n",
    "print(mylist)\n",
    "print(newlist)"
   ]
  },
  {
   "cell_type": "code",
   "execution_count": 25,
   "id": "be82aa68-1cf7-47a8-87f4-a8edb209d2cf",
   "metadata": {},
   "outputs": [
    {
     "data": {
      "text/plain": [
       "[1, 2, 3]"
      ]
     },
     "execution_count": 25,
     "metadata": {},
     "output_type": "execute_result"
    }
   ],
   "source": [
    "#remove duplicate elements from a list\n",
    "a=[1,2,3,1,1]\n",
    "list(set(a))"
   ]
  },
  {
   "cell_type": "code",
   "execution_count": 43,
   "id": "f6fa27ce-6040-425d-91c0-6cf920605b53",
   "metadata": {},
   "outputs": [
    {
     "name": "stdin",
     "output_type": "stream",
     "text": [
      "enter a charecter a\n"
     ]
    },
    {
     "name": "stdout",
     "output_type": "stream",
     "text": [
      "it is vowel\n"
     ]
    }
   ],
   "source": [
    "#write a python program to check given charecter is vowel or not \n",
    "a=str(input(\"enter a charecter\"))\n",
    "if(a==\"a\"or a==\"e\"or a==\"i\"or a==\"o\"or a==\"u\"):\n",
    "   print(\"it is vowel\")\n",
    "else:\n",
    "   print(\"it is not vowel\")"
   ]
  },
  {
   "cell_type": "code",
   "execution_count": null,
   "id": "b76bdf00-e0b0-40f9-a84c-f1c1080010c7",
   "metadata": {},
   "outputs": [],
   "source": [
    "#\n",
    "a=str(input(\"enter food item\"))\n",
    "veg=[\"panner biryani\"]\n",
    "nonveg=[\"chiken biryani\"]\n",
    "if userinput in veg:\n",
    "    print(veg)\n",
    "elif userinput in nonveg:\n",
    "    prrint(nonveg)\n",
    "else:\n",
    "    print(\"item not recognized\")"
   ]
  },
  {
   "cell_type": "code",
   "execution_count": null,
   "id": "891bb533-be8c-4440-9b62-eacd71306395",
   "metadata": {},
   "outputs": [],
   "source": []
  }
 ],
 "metadata": {
  "kernelspec": {
   "display_name": "Python 3 (ipykernel)",
   "language": "python",
   "name": "python3"
  },
  "language_info": {
   "codemirror_mode": {
    "name": "ipython",
    "version": 3
   },
   "file_extension": ".py",
   "mimetype": "text/x-python",
   "name": "python",
   "nbconvert_exporter": "python",
   "pygments_lexer": "ipython3",
   "version": "3.12.4"
  }
 },
 "nbformat": 4,
 "nbformat_minor": 5
}
