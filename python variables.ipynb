{
 "cells": [
  {
   "cell_type": "code",
   "execution_count": null,
   "id": "2bc1bd02-1d95-42f0-8e4a-d2b577603cd2",
   "metadata": {},
   "outputs": [],
   "source": [
    "rules to create variables\n",
    "1.by using Alpha numeric variables\n",
    "2.except under score(__) no other special charecter is used to create variables\n",
    "3.digit cannot start to create a variables\n",
    "keywords cant be used to create variables\n",
    "variables is case sencitive"
   ]
  },
  {
   "cell_type": "code",
   "execution_count": 1,
   "id": "4d2a77f8-61da-4943-b7d3-8ae871b770da",
   "metadata": {},
   "outputs": [
    {
     "name": "stdout",
     "output_type": "stream",
     "text": [
      "4\n"
     ]
    }
   ],
   "source": [
    "a=4\n",
    "print(a)\n"
   ]
  },
  {
   "cell_type": "code",
   "execution_count": 3,
   "id": "997b800d-3083-41bb-8d2f-3721feb0c8a2",
   "metadata": {},
   "outputs": [
    {
     "name": "stdout",
     "output_type": "stream",
     "text": [
      "1\n"
     ]
    }
   ],
   "source": [
    "y=1\n",
    "print(y)"
   ]
  },
  {
   "cell_type": "code",
   "execution_count": 5,
   "id": "e087a064-8525-48db-8545-8254d0a6094a",
   "metadata": {},
   "outputs": [
    {
     "name": "stdout",
     "output_type": "stream",
     "text": [
      "apple\n",
      "mango\n",
      "banana\n"
     ]
    }
   ],
   "source": [
    "#multiple variables\n",
    "x,y,z=\"apple\",\"mango\",\"banana\"\n",
    "print(x)\n",
    "print(y)\n",
    "print(z)"
   ]
  },
  {
   "cell_type": "code",
   "execution_count": 7,
   "id": "8810f2e1-8023-4bc8-9975-6b6c6b105adb",
   "metadata": {},
   "outputs": [
    {
     "name": "stdout",
     "output_type": "stream",
     "text": [
      "60\n",
      "60\n",
      "60\n"
     ]
    }
   ],
   "source": [
    "#one varible multiple values\n",
    "x=y=z=60\n",
    "print(x)\n",
    "print(y)\n",
    "print(z)"
   ]
  },
  {
   "cell_type": "code",
   "execution_count": null,
   "id": "7f92e79c-5d61-4c0a-824b-1c73d39e6474",
   "metadata": {},
   "outputs": [],
   "source": []
  }
 ],
 "metadata": {
  "kernelspec": {
   "display_name": "Python 3 (ipykernel)",
   "language": "python",
   "name": "python3"
  },
  "language_info": {
   "codemirror_mode": {
    "name": "ipython",
    "version": 3
   },
   "file_extension": ".py",
   "mimetype": "text/x-python",
   "name": "python",
   "nbconvert_exporter": "python",
   "pygments_lexer": "ipython3",
   "version": "3.12.4"
  }
 },
 "nbformat": 4,
 "nbformat_minor": 5
}
