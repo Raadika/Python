{
 "cells": [
  {
   "cell_type": "code",
   "execution_count": 1,
   "id": "90ac5ba8-7b0e-4afd-b171-b974f4daeb0f",
   "metadata": {},
   "outputs": [
    {
     "name": "stdin",
     "output_type": "stream",
     "text": [
      "Enter time in minutes 120\n"
     ]
    },
    {
     "name": "stdout",
     "output_type": "stream",
     "text": [
      "Hours= 2\n",
      "Minutes= 0\n"
     ]
    }
   ],
   "source": [
    "# wrie a python program that convert  a given number of minutes into hours and min\n",
    "min=int(input(\"Enter time in minutes\"))\n",
    "h=min//60\n",
    "m=min%60\n",
    "print(\"Hours=\",h)\n",
    "print(\"Minutes=\",m)"
   ]
  },
  {
   "cell_type": "code",
   "execution_count": 3,
   "id": "535c0eff-abd5-466b-bb74-757c00ed94e6",
   "metadata": {},
   "outputs": [
    {
     "name": "stdin",
     "output_type": "stream",
     "text": [
      "enter a string: radar\n"
     ]
    },
    {
     "name": "stdout",
     "output_type": "stream",
     "text": [
      "radar is palindrome\n"
     ]
    }
   ],
   "source": [
    "#write a python to check given string is pallindrome\n",
    "str=input(\"enter a string:\")\n",
    "if str==str[::1]:\n",
    "    print(str,\"is palindrome\")\n",
    "else:\n",
    "    print(str,\"not pallindrome\")"
   ]
  },
  {
   "cell_type": "code",
   "execution_count": 5,
   "id": "dbf77d37-ec60-445d-a6bc-cb71b0d6fc44",
   "metadata": {},
   "outputs": [
    {
     "name": "stdout",
     "output_type": "stream",
     "text": [
      "11 is a prime number\n"
     ]
    }
   ],
   "source": [
    "#write a python program to check if a number is prime or not\n",
    "num = 11\n",
    "if num > 1:\n",
    "    for i in range(2, (num//2)+1):\n",
    "    \n",
    "        if (num % i) == 0:\n",
    "            print(num, \"is not a prime number\")\n",
    "            break\n",
    "    else:\n",
    "        print(num, \"is a prime number\")\n",
    "else:\n",
    "    print(num, \"is not a prime number\")"
   ]
  },
  {
   "cell_type": "code",
   "execution_count": 7,
   "id": "3b9507d2-a314-412e-9caa-79e5a1b85380",
   "metadata": {},
   "outputs": [
    {
     "name": "stdout",
     "output_type": "stream",
     "text": [
      "0\n",
      "1\n",
      "2\n",
      "3\n",
      "4\n",
      "5\n",
      "6\n",
      "7\n",
      "8\n",
      "9\n"
     ]
    }
   ],
   "source": [
    "#write a python program to create a loop that print the first ten  whole numbers\n",
    "i=0\n",
    "while i<10:\n",
    "    print(i)\n",
    "    i=i+1\n",
    "    "
   ]
  },
  {
   "cell_type": "code",
   "execution_count": 9,
   "id": "fce3ab69-8ff7-4c89-8406-bdef30882dd4",
   "metadata": {},
   "outputs": [
    {
     "name": "stdin",
     "output_type": "stream",
     "text": [
      "enter lngth of fibonacci series, 8\n"
     ]
    },
    {
     "name": "stdout",
     "output_type": "stream",
     "text": [
      "0\n",
      "1\n",
      "1\n",
      "2\n",
      "3\n",
      "5\n",
      "8\n",
      "13\n"
     ]
    }
   ],
   "source": [
    "# wrie a python program generate the fibonacci seris upto given number\n",
    "n=int(input(\"enter lngth of fibonacci series,\"))\n",
    "n1=0\n",
    "n2=1\n",
    "count=2\n",
    "if n<0:\n",
    "    print(\"enter only positive values\")\n",
    "elif n==1:\n",
    "    print(n1)\n",
    "else:\n",
    "    print(n1)\n",
    "    print(n2)\n",
    "    while count<n:\n",
    "        n3=n1+n2\n",
    "        print(n3)\n",
    "        count+=1\n",
    "        n1=n2\n",
    "        n2=n3"
   ]
  },
  {
   "cell_type": "code",
   "execution_count": 11,
   "id": "3d48a12b-aa66-436e-b530-e95f14adbf1a",
   "metadata": {},
   "outputs": [
    {
     "name": "stdin",
     "output_type": "stream",
     "text": [
      "Enter the number:  6\n"
     ]
    },
    {
     "name": "stdout",
     "output_type": "stream",
     "text": [
      "6 * 1 = 6\n",
      "6 * 2 = 12\n",
      "6 * 3 = 18\n",
      "6 * 4 = 24\n",
      "6 * 5 = 30\n",
      "6 * 6 = 36\n",
      "6 * 7 = 42\n",
      "6 * 8 = 48\n",
      "6 * 9 = 54\n",
      "6 * 10 = 60\n"
     ]
    }
   ],
   "source": [
    "#wrie a python program to print multiplication table of a given number\n",
    "num = int(input(\"Enter the number: \"))\n",
    "i=1\n",
    "while i<=10:\n",
    "    print(num,'*',i,'=',num*i)\n",
    "    i+=1\n"
   ]
  },
  {
   "cell_type": "code",
   "execution_count": 13,
   "id": "6bc2cdcc-f0bf-4c54-9c2e-05b62cc360ab",
   "metadata": {},
   "outputs": [
    {
     "name": "stdout",
     "output_type": "stream",
     "text": [
      "55\n"
     ]
    }
   ],
   "source": [
    "#write a python program to find the some of first 10 numbers\n",
    "sum = 0\n",
    "for i in range(1, 11):\n",
    "    sum += i\n",
    "print(sum)"
   ]
  },
  {
   "cell_type": "code",
   "execution_count": 15,
   "id": "1d272a4f-3929-41d7-bb5f-47e0216135ee",
   "metadata": {},
   "outputs": [
    {
     "name": "stdin",
     "output_type": "stream",
     "text": [
      "Enter first side:  2\n",
      "Enter second side:  3\n",
      "Enter third side:  4\n"
     ]
    },
    {
     "name": "stdout",
     "output_type": "stream",
     "text": [
      "The area of the triangle is 2.90\n"
     ]
    }
   ],
   "source": [
    "##write a python program to calculate area of triangle.right angle, isolated\n",
    "a = float(input('Enter first side: '))\n",
    "b = float(input('Enter second side: '))\n",
    "c = float(input('Enter third side: '))\n",
    "# calculate the semi-perimeter.\n",
    "s = (a + b + c) / 2\n",
    "# calculate the area.\n",
    "area = (s*(s-a)*(s-b)*(s-c)) ** 0.5\n",
    "print('The area of the triangle is %0.2f' %area)  "
   ]
  },
  {
   "cell_type": "code",
   "execution_count": 21,
   "id": "3f886be0-9b53-4844-8475-da664aa37749",
   "metadata": {},
   "outputs": [
    {
     "name": "stdin",
     "output_type": "stream",
     "text": [
      "Enter the string : vowels\n"
     ]
    },
    {
     "name": "stdout",
     "output_type": "stream",
     "text": [
      "NO.of vowels= 0\n",
      "NO.of vowels= 1\n",
      "NO.of vowels= 1\n",
      "NO.of vowels= 2\n",
      "NO.of vowels= 2\n",
      "NO.of vowels= 2\n"
     ]
    }
   ],
   "source": [
    "#write a python program to count the number of vowels given in a string\n",
    "String = input('Enter the string :')\n",
    "count = 0\n",
    "\n",
    "for i in String:\n",
    "    if i == 'a' or i == 'e' or i == 'i' or i == 'o' or i == 'u'\\\n",
    "    or i=='A' or i=='E' or i=='I' or i=='O' or i=='U':\n",
    "        count=count+1\n",
    "    print('NO.of vowels=',count)\n"
   ]
  },
  {
   "cell_type": "code",
   "execution_count": null,
   "id": "1390d7a1-b5e3-42b3-86c4-c55f5300f7d9",
   "metadata": {},
   "outputs": [],
   "source": []
  }
 ],
 "metadata": {
  "kernelspec": {
   "display_name": "Python 3 (ipykernel)",
   "language": "python",
   "name": "python3"
  },
  "language_info": {
   "codemirror_mode": {
    "name": "ipython",
    "version": 3
   },
   "file_extension": ".py",
   "mimetype": "text/x-python",
   "name": "python",
   "nbconvert_exporter": "python",
   "pygments_lexer": "ipython3",
   "version": "3.12.4"
  }
 },
 "nbformat": 4,
 "nbformat_minor": 5
}
