{
 "cells": [
  {
   "cell_type": "code",
   "execution_count": null,
   "id": "bd7fcb66-7e9a-44e1-ad19-0eeb92064535",
   "metadata": {},
   "outputs": [],
   "source": [
    "A datatype is a classification of data that determines:\n",
    "\n",
    "1. What type of value can be stored in a variable.\n",
    "2. How the data is stored in memory.\n",
    "3. What operations can be performed on the data.\n",
    "Python has the following datatypes\n",
    "Integer,float,complex,boolean"
   ]
  },
  {
   "cell_type": "code",
   "execution_count": 1,
   "id": "ba054132-d475-43e7-9466-e0eb3cf2278b",
   "metadata": {},
   "outputs": [
    {
     "name": "stdout",
     "output_type": "stream",
     "text": [
      "6\n"
     ]
    }
   ],
   "source": [
    "a=6\n",
    "print(a)"
   ]
  },
  {
   "cell_type": "code",
   "execution_count": 3,
   "id": "2184ca5d-c152-41cc-b66a-29a0c7fcd604",
   "metadata": {},
   "outputs": [
    {
     "name": "stdout",
     "output_type": "stream",
     "text": [
      "-7\n"
     ]
    }
   ],
   "source": [
    "neg=-7\n",
    "print(neg)"
   ]
  },
  {
   "cell_type": "code",
   "execution_count": 9,
   "id": "ce525532-e024-4eb1-ac1b-cf1051a15991",
   "metadata": {},
   "outputs": [
    {
     "name": "stdout",
     "output_type": "stream",
     "text": [
      "(6-3j)\n"
     ]
    }
   ],
   "source": [
    "c=6-3j\n",
    "print(c)"
   ]
  },
  {
   "cell_type": "code",
   "execution_count": 11,
   "id": "429d17de-a1f1-4918-b586-e811b304200e",
   "metadata": {},
   "outputs": [
    {
     "name": "stdout",
     "output_type": "stream",
     "text": [
      "False\n"
     ]
    }
   ],
   "source": [
    "d=9<6\n",
    "print(d)"
   ]
  },
  {
   "cell_type": "code",
   "execution_count": 13,
   "id": "021aa825-2b9b-4bc3-9998-9b5ccf302196",
   "metadata": {},
   "outputs": [
    {
     "name": "stdout",
     "output_type": "stream",
     "text": [
      "True\n"
     ]
    }
   ],
   "source": [
    "c=4<7\n",
    "print(c)"
   ]
  },
  {
   "cell_type": "code",
   "execution_count": 15,
   "id": "6585bbc9-942b-4f0c-9f7b-edf4b817a818",
   "metadata": {},
   "outputs": [
    {
     "name": "stdout",
     "output_type": "stream",
     "text": [
      "9\n"
     ]
    }
   ],
   "source": [
    "b=9\n",
    "print(b)"
   ]
  },
  {
   "cell_type": "code",
   "execution_count": 17,
   "id": "50db2a29-c4e1-47c2-a49f-893cb4070cf2",
   "metadata": {},
   "outputs": [
    {
     "name": "stdout",
     "output_type": "stream",
     "text": [
      "6.78\n"
     ]
    }
   ],
   "source": [
    "c=6.78\n",
    "print(c)"
   ]
  },
  {
   "cell_type": "code",
   "execution_count": 19,
   "id": "d86daf57-ff5e-46ce-9cad-dbecb1d5b764",
   "metadata": {},
   "outputs": [
    {
     "name": "stdout",
     "output_type": "stream",
     "text": [
      "6.98\n"
     ]
    }
   ],
   "source": [
    "g=6.98\n",
    "print(g)"
   ]
  },
  {
   "cell_type": "code",
   "execution_count": 21,
   "id": "d07fdafa-9d2e-41fb-89cf-dec257d1a63f",
   "metadata": {},
   "outputs": [
    {
     "name": "stdout",
     "output_type": "stream",
     "text": [
      "True\n"
     ]
    }
   ],
   "source": [
    "a=14<87\n",
    "print(a)"
   ]
  },
  {
   "cell_type": "code",
   "execution_count": null,
   "id": "c8d0b571-9df8-41a5-9ef8-d6e496859f20",
   "metadata": {},
   "outputs": [],
   "source": [
    "#explain what is integer\n",
    "Int, or integer, is a whole number, positive or negative, without decimals, of unlimited length."
   ]
  },
  {
   "cell_type": "code",
   "execution_count": 23,
   "id": "212ef55d-8f1f-491c-944b-d1bf2deda1f2",
   "metadata": {},
   "outputs": [
    {
     "name": "stdout",
     "output_type": "stream",
     "text": [
      "5\n"
     ]
    }
   ],
   "source": [
    "a=5\n",
    "print(a)"
   ]
  },
  {
   "cell_type": "code",
   "execution_count": 25,
   "id": "f93fff82-8495-4c5f-8a41-1bf844d5fd85",
   "metadata": {},
   "outputs": [
    {
     "name": "stdout",
     "output_type": "stream",
     "text": [
      "-9\n"
     ]
    }
   ],
   "source": [
    "b=-9\n",
    "print(b)"
   ]
  },
  {
   "cell_type": "code",
   "execution_count": 27,
   "id": "8866fd1a-a334-432d-a361-0ae5cb25f1bf",
   "metadata": {},
   "outputs": [
    {
     "name": "stdout",
     "output_type": "stream",
     "text": [
      "98\n"
     ]
    }
   ],
   "source": [
    "c=98\n",
    "print(c)"
   ]
  },
  {
   "cell_type": "code",
   "execution_count": 29,
   "id": "80a6c7a0-f220-441d-a9af-51980d88737d",
   "metadata": {},
   "outputs": [
    {
     "name": "stdout",
     "output_type": "stream",
     "text": [
      "-45\n"
     ]
    }
   ],
   "source": [
    "d=-45\n",
    "print(d)"
   ]
  },
  {
   "cell_type": "code",
   "execution_count": 31,
   "id": "c1f34e8f-1a0b-4f6a-810a-2a9479e3d7c1",
   "metadata": {},
   "outputs": [
    {
     "name": "stdout",
     "output_type": "stream",
     "text": [
      "234\n"
     ]
    }
   ],
   "source": [
    "f=234\n",
    "print(f)"
   ]
  },
  {
   "cell_type": "code",
   "execution_count": 33,
   "id": "81210387-c941-4e81-978c-e4d5d417cee3",
   "metadata": {},
   "outputs": [
    {
     "name": "stdout",
     "output_type": "stream",
     "text": [
      "-98\n"
     ]
    }
   ],
   "source": [
    "h=-98\n",
    "print(h)"
   ]
  },
  {
   "cell_type": "code",
   "execution_count": 35,
   "id": "0ae10999-81ee-4199-bc7f-adf0fc019ef9",
   "metadata": {},
   "outputs": [
    {
     "name": "stdout",
     "output_type": "stream",
     "text": [
      "456\n"
     ]
    }
   ],
   "source": [
    "j=456\n",
    "print(j)"
   ]
  },
  {
   "cell_type": "code",
   "execution_count": 37,
   "id": "5b57154b-54cb-4def-8c84-15aa76c22d31",
   "metadata": {},
   "outputs": [
    {
     "name": "stdout",
     "output_type": "stream",
     "text": [
      "23\n"
     ]
    }
   ],
   "source": [
    "k=23\n",
    "print(k)"
   ]
  },
  {
   "cell_type": "code",
   "execution_count": 39,
   "id": "a091ead8-b7dd-4d38-a153-b2bed11fe7ee",
   "metadata": {},
   "outputs": [
    {
     "name": "stdout",
     "output_type": "stream",
     "text": [
      "65\n"
     ]
    }
   ],
   "source": [
    "l=65\n",
    "print(l)"
   ]
  },
  {
   "cell_type": "code",
   "execution_count": 41,
   "id": "61c94f2a-39f8-4932-8090-065d53abf3e9",
   "metadata": {},
   "outputs": [
    {
     "name": "stdout",
     "output_type": "stream",
     "text": [
      "5\n"
     ]
    }
   ],
   "source": [
    "x=5\n",
    "print(x)"
   ]
  },
  {
   "cell_type": "code",
   "execution_count": 43,
   "id": "606cea3b-8c0e-478b-9d02-19b67f23bf04",
   "metadata": {},
   "outputs": [
    {
     "name": "stdout",
     "output_type": "stream",
     "text": [
      "-9\n"
     ]
    }
   ],
   "source": [
    "u=-9\n",
    "print(u)"
   ]
  },
  {
   "cell_type": "code",
   "execution_count": null,
   "id": "4b293b17-2330-4722-800b-faff478d572f",
   "metadata": {},
   "outputs": [],
   "source": [
    "#explain what is float\n",
    "Float is a function or reusable code in Python that is a common data format. Also, float contains decimals and integers."
   ]
  },
  {
   "cell_type": "code",
   "execution_count": 45,
   "id": "334c9fb7-a93b-4d9d-ba7e-e7fc59839146",
   "metadata": {},
   "outputs": [
    {
     "name": "stdout",
     "output_type": "stream",
     "text": [
      "6.23\n"
     ]
    }
   ],
   "source": [
    "a=6.23\n",
    "print(a)"
   ]
  },
  {
   "cell_type": "code",
   "execution_count": 97,
   "id": "fb3c1020-3dbc-4d1a-b0ef-ac9ee48fda3f",
   "metadata": {},
   "outputs": [
    {
     "name": "stdout",
     "output_type": "stream",
     "text": [
      "89.7\n"
     ]
    }
   ],
   "source": [
    " d=89.7\n",
    "print(d)"
   ]
  },
  {
   "cell_type": "code",
   "execution_count": 49,
   "id": "0afbd74a-0400-4d11-b988-b3a4f54f8618",
   "metadata": {},
   "outputs": [
    {
     "name": "stdout",
     "output_type": "stream",
     "text": [
      "2.4\n"
     ]
    }
   ],
   "source": [
    "j=2.4\n",
    "print(j)"
   ]
  },
  {
   "cell_type": "code",
   "execution_count": 51,
   "id": "369c84a7-8664-4ab9-ab5d-7dc925954416",
   "metadata": {},
   "outputs": [
    {
     "name": "stdout",
     "output_type": "stream",
     "text": [
      "2.345\n"
     ]
    }
   ],
   "source": [
    "y=2.345\n",
    "print(y)"
   ]
  },
  {
   "cell_type": "code",
   "execution_count": 53,
   "id": "4a390b3d-7d0c-4adc-b3bc-418f3499f68d",
   "metadata": {},
   "outputs": [
    {
     "name": "stdout",
     "output_type": "stream",
     "text": [
      "8.9\n"
     ]
    }
   ],
   "source": [
    "x=8.90\n",
    "print(x)"
   ]
  },
  {
   "cell_type": "code",
   "execution_count": 55,
   "id": "5c649ebe-913f-4aa1-b080-f087850bc355",
   "metadata": {},
   "outputs": [
    {
     "name": "stdout",
     "output_type": "stream",
     "text": [
      "6.78\n"
     ]
    }
   ],
   "source": [
    "k=6.78\n",
    "print(k)"
   ]
  },
  {
   "cell_type": "code",
   "execution_count": 57,
   "id": "774222d2-5b42-42bd-8354-881f682aec45",
   "metadata": {},
   "outputs": [
    {
     "name": "stdout",
     "output_type": "stream",
     "text": [
      "2.34\n"
     ]
    }
   ],
   "source": [
    "v=2.34\n",
    "print(v)"
   ]
  },
  {
   "cell_type": "code",
   "execution_count": 59,
   "id": "260a9fc5-976e-4457-b572-fe4f57007e4a",
   "metadata": {},
   "outputs": [
    {
     "name": "stdout",
     "output_type": "stream",
     "text": [
      "7.89063\n"
     ]
    }
   ],
   "source": [
    "z=7.89063\n",
    "print(z)"
   ]
  },
  {
   "cell_type": "code",
   "execution_count": 61,
   "id": "89a71aca-d3f9-4c7b-ad32-d9a89cbbc5ec",
   "metadata": {},
   "outputs": [
    {
     "name": "stdout",
     "output_type": "stream",
     "text": [
      "45.7\n"
     ]
    }
   ],
   "source": [
    "n=45.7\n",
    "print(n)"
   ]
  },
  {
   "cell_type": "code",
   "execution_count": 63,
   "id": "dd03c73f-13e3-4f3a-95f0-5b249d182781",
   "metadata": {},
   "outputs": [
    {
     "name": "stdout",
     "output_type": "stream",
     "text": [
      "98.0\n"
     ]
    }
   ],
   "source": [
    "r=98.0\n",
    "print(r)"
   ]
  },
  {
   "cell_type": "code",
   "execution_count": null,
   "id": "421b2529-ce33-480b-b147-64cfb4ed77f4",
   "metadata": {},
   "outputs": [],
   "source": [
    "#explain what is complex\n",
    "The complex data type in python consists of two values, the first one is the real part of the complex number, and the second one is the imaginary part of the complex number. We usually denote the real part using i and the imaginary part with j. "
   ]
  },
  {
   "cell_type": "code",
   "execution_count": 69,
   "id": "3790dab3-b586-4790-a069-f7e73df08d12",
   "metadata": {},
   "outputs": [
    {
     "name": "stdout",
     "output_type": "stream",
     "text": [
      "(3-6j)\n"
     ]
    }
   ],
   "source": [
    "a=3-6j\n",
    "print(a)"
   ]
  },
  {
   "cell_type": "code",
   "execution_count": 71,
   "id": "907ce9ec-1b24-4d72-aa81-f42302ca10d1",
   "metadata": {},
   "outputs": [
    {
     "name": "stdout",
     "output_type": "stream",
     "text": [
      "(3+5j)\n"
     ]
    }
   ],
   "source": [
    "b=3+5j\n",
    "print(b)"
   ]
  },
  {
   "cell_type": "code",
   "execution_count": 73,
   "id": "ce178a9e-9917-47f8-9127-d29f3cd04aa9",
   "metadata": {},
   "outputs": [
    {
     "name": "stdout",
     "output_type": "stream",
     "text": [
      "(-6+5j)\n"
     ]
    }
   ],
   "source": [
    "v=-6+5j\n",
    "print(v)"
   ]
  },
  {
   "cell_type": "code",
   "execution_count": 75,
   "id": "1e6a2f87-542b-4f7b-8004-1e4e51fc2ef3",
   "metadata": {},
   "outputs": [
    {
     "name": "stdout",
     "output_type": "stream",
     "text": [
      "(-5-9j)\n"
     ]
    }
   ],
   "source": [
    "x=-5-9j\n",
    "print(x)"
   ]
  },
  {
   "cell_type": "code",
   "execution_count": 77,
   "id": "0c7dae64-5eec-4813-b29a-a5f902b959ab",
   "metadata": {},
   "outputs": [
    {
     "name": "stdout",
     "output_type": "stream",
     "text": [
      "(8+3j)\n"
     ]
    }
   ],
   "source": [
    "r=8+3j\n",
    "print(r)"
   ]
  },
  {
   "cell_type": "code",
   "execution_count": 81,
   "id": "a70d59f0-8fde-4c56-9148-bd2ca1a9b3e5",
   "metadata": {},
   "outputs": [
    {
     "name": "stdout",
     "output_type": "stream",
     "text": [
      "(7+78j)\n"
     ]
    }
   ],
   "source": [
    "q=7+78j\n",
    "print(q)"
   ]
  },
  {
   "cell_type": "code",
   "execution_count": 89,
   "id": "f1fbe654-ec53-4f17-909e-8c2d2f8990e6",
   "metadata": {},
   "outputs": [
    {
     "name": "stdout",
     "output_type": "stream",
     "text": [
      "(10+16j)\n"
     ]
    }
   ],
   "source": [
    "x=3+9j\n",
    "y=7+7j\n",
    "print(x+y)"
   ]
  },
  {
   "cell_type": "code",
   "execution_count": 91,
   "id": "70f423fa-b739-41db-9bbf-b1d484c8f39d",
   "metadata": {},
   "outputs": [
    {
     "name": "stdout",
     "output_type": "stream",
     "text": [
      "(-96-87j)\n"
     ]
    }
   ],
   "source": [
    "a=-89-78j\n",
    "b=7+9j\n",
    "print(a-b)"
   ]
  },
  {
   "cell_type": "code",
   "execution_count": 93,
   "id": "9efcefe7-d051-46c0-b473-de1ec69f7f4b",
   "metadata": {},
   "outputs": [
    {
     "name": "stdout",
     "output_type": "stream",
     "text": [
      "(123-82j)\n"
     ]
    }
   ],
   "source": [
    "f=56+5j\n",
    "h=67-87j\n",
    "print(f+h)"
   ]
  },
  {
   "cell_type": "code",
   "execution_count": null,
   "id": "dd388a4a-b1ac-4863-be95-f2fb99c2039d",
   "metadata": {},
   "outputs": [],
   "source": [
    "#expain what is boolean\n",
    "you can use Boolean data type to determine whether a number is positive or negative, or whether a user has entered a valid input. "
   ]
  },
  {
   "cell_type": "code",
   "execution_count": 99,
   "id": "5e135e1c-2145-470d-aa80-451642f80c6a",
   "metadata": {},
   "outputs": [
    {
     "data": {
      "text/plain": [
       "True"
      ]
     },
     "execution_count": 99,
     "metadata": {},
     "output_type": "execute_result"
    }
   ],
   "source": [
    "bool(8.7)"
   ]
  },
  {
   "cell_type": "code",
   "execution_count": 105,
   "id": "018492a8-8347-4bce-bf1b-bb876c194bff",
   "metadata": {},
   "outputs": [
    {
     "name": "stdout",
     "output_type": "stream",
     "text": [
      "False\n"
     ]
    }
   ],
   "source": [
    "a=56>98\n",
    "print(a)"
   ]
  },
  {
   "cell_type": "code",
   "execution_count": 107,
   "id": "1bd391ba-94aa-4883-b531-dca2025ca356",
   "metadata": {},
   "outputs": [
    {
     "name": "stdout",
     "output_type": "stream",
     "text": [
      "True\n"
     ]
    }
   ],
   "source": [
    "b=4<7\n",
    "print(b)"
   ]
  },
  {
   "cell_type": "code",
   "execution_count": 111,
   "id": "442b103d-f7a7-4050-8c58-deabb94e135e",
   "metadata": {},
   "outputs": [
    {
     "name": "stdout",
     "output_type": "stream",
     "text": [
      "False\n"
     ]
    }
   ],
   "source": [
    "n=9<0\n",
    "print(n)"
   ]
  },
  {
   "cell_type": "code",
   "execution_count": 115,
   "id": "56fb2269-bf5d-4a92-a7e8-27c81c55b99a",
   "metadata": {},
   "outputs": [
    {
     "name": "stdout",
     "output_type": "stream",
     "text": [
      "False\n"
     ]
    }
   ],
   "source": [
    "c=7<9\n",
    "d=6<9\n",
    "print(c<d)"
   ]
  },
  {
   "cell_type": "code",
   "execution_count": 119,
   "id": "07a33ac5-064b-43f7-8bde-eb76f22f1682",
   "metadata": {},
   "outputs": [
    {
     "name": "stdout",
     "output_type": "stream",
     "text": [
      "True\n"
     ]
    }
   ],
   "source": [
    "y=89>9\n",
    "print(y)"
   ]
  },
  {
   "cell_type": "code",
   "execution_count": 121,
   "id": "7b01e28c-e2eb-41cc-a6c4-90aa1d1fa6d8",
   "metadata": {},
   "outputs": [
    {
     "name": "stdout",
     "output_type": "stream",
     "text": [
      "True\n"
     ]
    }
   ],
   "source": [
    "r=-65<8\n",
    "print(r)"
   ]
  },
  {
   "cell_type": "code",
   "execution_count": 123,
   "id": "42eed6ed-51e9-4ccd-a716-8ea1c79d7b7e",
   "metadata": {},
   "outputs": [
    {
     "name": "stdout",
     "output_type": "stream",
     "text": [
      "False\n"
     ]
    }
   ],
   "source": [
    "h=-9<-80\n",
    "print(h)"
   ]
  },
  {
   "cell_type": "code",
   "execution_count": 125,
   "id": "4388abae-fe25-4c38-a9e9-ad470d547f2a",
   "metadata": {},
   "outputs": [
    {
     "name": "stdout",
     "output_type": "stream",
     "text": [
      "True\n"
     ]
    }
   ],
   "source": [
    "y=8<9\n",
    "print(y)"
   ]
  },
  {
   "cell_type": "code",
   "execution_count": 127,
   "id": "ef1e057e-2824-41a6-bc85-ee3eb00c29dd",
   "metadata": {},
   "outputs": [
    {
     "name": "stdout",
     "output_type": "stream",
     "text": [
      "True\n"
     ]
    }
   ],
   "source": [
    "z=6<7\n",
    "print(z)"
   ]
  },
  {
   "cell_type": "code",
   "execution_count": 131,
   "id": "7ba86b1d-56c2-49a9-bb5d-74b25f9149c4",
   "metadata": {},
   "outputs": [
    {
     "data": {
      "text/plain": [
       "complex"
      ]
     },
     "execution_count": 131,
     "metadata": {},
     "output_type": "execute_result"
    }
   ],
   "source": [
    "#type function:which type data is stored in particular function\n",
    "c=3+9j\n",
    "type(c)"
   ]
  },
  {
   "cell_type": "code",
   "execution_count": 133,
   "id": "40c9fa34-fe9c-450a-a872-bf9922edfef1",
   "metadata": {},
   "outputs": [
    {
     "data": {
      "text/plain": [
       "complex"
      ]
     },
     "execution_count": 133,
     "metadata": {},
     "output_type": "execute_result"
    }
   ],
   "source": [
    "a=-9-7j\n",
    "type(a)\n"
   ]
  },
  {
   "cell_type": "code",
   "execution_count": 135,
   "id": "14f7ff18-3373-4d68-ab37-265fbaa7100f",
   "metadata": {},
   "outputs": [
    {
     "data": {
      "text/plain": [
       "int"
      ]
     },
     "execution_count": 135,
     "metadata": {},
     "output_type": "execute_result"
    }
   ],
   "source": [
    "a=98\n",
    "type(a)"
   ]
  },
  {
   "cell_type": "code",
   "execution_count": 137,
   "id": "f851c704-d518-40e4-beb1-752b894637ef",
   "metadata": {},
   "outputs": [
    {
     "data": {
      "text/plain": [
       "int"
      ]
     },
     "execution_count": 137,
     "metadata": {},
     "output_type": "execute_result"
    }
   ],
   "source": [
    "b=67\n",
    "type(b)"
   ]
  },
  {
   "cell_type": "code",
   "execution_count": 143,
   "id": "57a4f7b2-52db-4380-b99a-4ac4da6c3cc6",
   "metadata": {},
   "outputs": [
    {
     "data": {
      "text/plain": [
       "float"
      ]
     },
     "execution_count": 143,
     "metadata": {},
     "output_type": "execute_result"
    }
   ],
   "source": [
    "a=8.98\n",
    "type(a)"
   ]
  },
  {
   "cell_type": "code",
   "execution_count": 145,
   "id": "0215ebe9-d500-4b84-9fba-89f4c00c21e0",
   "metadata": {},
   "outputs": [
    {
     "data": {
      "text/plain": [
       "float"
      ]
     },
     "execution_count": 145,
     "metadata": {},
     "output_type": "execute_result"
    }
   ],
   "source": [
    "c=09.87\n",
    "type(c)"
   ]
  },
  {
   "cell_type": "code",
   "execution_count": 147,
   "id": "e047758d-8fe9-44c0-bf1e-20d55263c8db",
   "metadata": {},
   "outputs": [
    {
     "data": {
      "text/plain": [
       "bool"
      ]
     },
     "execution_count": 147,
     "metadata": {},
     "output_type": "execute_result"
    }
   ],
   "source": [
    "a=7<8\n",
    "type(a)"
   ]
  },
  {
   "cell_type": "code",
   "execution_count": 151,
   "id": "46ffc9f2-86b8-4b6c-9ae8-6e4936459556",
   "metadata": {},
   "outputs": [
    {
     "data": {
      "text/plain": [
       "bool"
      ]
     },
     "execution_count": 151,
     "metadata": {},
     "output_type": "execute_result"
    }
   ],
   "source": [
    "b=(9>8)\n",
    "type(b)"
   ]
  },
  {
   "cell_type": "code",
   "execution_count": 153,
   "id": "c82e2a5c-8f13-4506-a021-2d40b342d29a",
   "metadata": {},
   "outputs": [
    {
     "name": "stdout",
     "output_type": "stream",
     "text": [
      "8.0\n"
     ]
    }
   ],
   "source": [
    "#type convertion:converting one datatype into other\n",
    "a=8\n",
    "b=float(a)\n",
    "print(b)"
   ]
  },
  {
   "cell_type": "code",
   "execution_count": 155,
   "id": "ae71ef7a-ecf5-4d8b-bd79-5dca62eed21c",
   "metadata": {},
   "outputs": [
    {
     "name": "stdout",
     "output_type": "stream",
     "text": [
      "6.0\n"
     ]
    }
   ],
   "source": [
    "b=6\n",
    "c=float(b)\n",
    "print(c)"
   ]
  },
  {
   "cell_type": "code",
   "execution_count": 157,
   "id": "79ad0c92-b127-44b2-9ef6-20f77d9be76b",
   "metadata": {},
   "outputs": [
    {
     "name": "stdout",
     "output_type": "stream",
     "text": [
      "5.0\n"
     ]
    }
   ],
   "source": [
    "g=5\n",
    "c=float(g)\n",
    "print(c)"
   ]
  },
  {
   "cell_type": "code",
   "execution_count": 159,
   "id": "a4e4b441-97ba-4892-b52c-5e5d70883fb3",
   "metadata": {},
   "outputs": [
    {
     "name": "stdout",
     "output_type": "stream",
     "text": [
      "4\n"
     ]
    }
   ],
   "source": [
    "c=4.5\n",
    "h=int(c)\n",
    "print(h)"
   ]
  },
  {
   "cell_type": "code",
   "execution_count": 161,
   "id": "853ba0fe-6b8a-4f9a-90f6-771998bfb0b9",
   "metadata": {},
   "outputs": [
    {
     "name": "stdout",
     "output_type": "stream",
     "text": [
      "3\n"
     ]
    }
   ],
   "source": [
    "g=3.35\n",
    "f=int(g)\n",
    "print(f)"
   ]
  },
  {
   "cell_type": "code",
   "execution_count": 163,
   "id": "6a546116-a095-4e52-ae66-1efee0ec0af0",
   "metadata": {},
   "outputs": [
    {
     "name": "stdout",
     "output_type": "stream",
     "text": [
      "9\n"
     ]
    }
   ],
   "source": [
    "g=9.80\n",
    "f=int(g)\n",
    "print(f)"
   ]
  },
  {
   "cell_type": "code",
   "execution_count": 165,
   "id": "84319b26-8dc7-4857-95fd-4f666143c4cd",
   "metadata": {},
   "outputs": [
    {
     "name": "stdout",
     "output_type": "stream",
     "text": [
      "(4.5+0j)\n"
     ]
    }
   ],
   "source": [
    "a=4.5\n",
    "b=complex(a)\n",
    "print(b)"
   ]
  },
  {
   "cell_type": "code",
   "execution_count": 169,
   "id": "7afa1c7b-ddab-4452-96fb-c5de2c19dca8",
   "metadata": {},
   "outputs": [
    {
     "name": "stdout",
     "output_type": "stream",
     "text": [
      "(6.78+0j)\n"
     ]
    }
   ],
   "source": [
    "h=6.78\n",
    "i=complex(h)\n",
    "print(i)"
   ]
  },
  {
   "cell_type": "code",
   "execution_count": 173,
   "id": "a7555cb1-4a59-4dae-9f6f-a8ac83091542",
   "metadata": {},
   "outputs": [
    {
     "name": "stdout",
     "output_type": "stream",
     "text": [
      "(4.5+0j)\n"
     ]
    }
   ],
   "source": [
    "r=2.34\n",
    "i=complex(c)\n",
    "print(i)"
   ]
  },
  {
   "cell_type": "code",
   "execution_count": 175,
   "id": "8f59f18d-0fc3-4837-b3c5-42829036229f",
   "metadata": {},
   "outputs": [
    {
     "name": "stdout",
     "output_type": "stream",
     "text": [
      "(6.78+0j)\n"
     ]
    }
   ],
   "source": [
    "k=6.78\n",
    "l=complex(k)\n",
    "print(l)"
   ]
  },
  {
   "cell_type": "code",
   "execution_count": 177,
   "id": "645f66d6-fcca-47ea-9654-5e0251195c8c",
   "metadata": {},
   "outputs": [
    {
     "name": "stdout",
     "output_type": "stream",
     "text": [
      "(8.9+0j)\n"
     ]
    }
   ],
   "source": [
    "q=8.90\n",
    "p=complex(q)\n",
    "print(p)"
   ]
  },
  {
   "cell_type": "code",
   "execution_count": 185,
   "id": "ceacc995-4d27-4add-b23b-17749d7ed730",
   "metadata": {},
   "outputs": [
    {
     "data": {
      "text/plain": [
       "True"
      ]
     },
     "execution_count": 185,
     "metadata": {},
     "output_type": "execute_result"
    }
   ],
   "source": [
    "#applying bool function\n",
    "bool(3)"
   ]
  },
  {
   "cell_type": "code",
   "execution_count": 187,
   "id": "43cffc7d-c0d7-4b0c-b27e-3e0d10cf024c",
   "metadata": {},
   "outputs": [
    {
     "data": {
      "text/plain": [
       "True"
      ]
     },
     "execution_count": 187,
     "metadata": {},
     "output_type": "execute_result"
    }
   ],
   "source": [
    "bool(67)"
   ]
  },
  {
   "cell_type": "code",
   "execution_count": 189,
   "id": "57dedefc-66c6-47e1-95fd-f068dc472f43",
   "metadata": {},
   "outputs": [
    {
     "data": {
      "text/plain": [
       "True"
      ]
     },
     "execution_count": 189,
     "metadata": {},
     "output_type": "execute_result"
    }
   ],
   "source": [
    "bool(678)"
   ]
  },
  {
   "cell_type": "code",
   "execution_count": 191,
   "id": "d6d7bdbb-2647-41b9-a0e1-f38022da08a4",
   "metadata": {},
   "outputs": [
    {
     "data": {
      "text/plain": [
       "True"
      ]
     },
     "execution_count": 191,
     "metadata": {},
     "output_type": "execute_result"
    }
   ],
   "source": [
    "bool(87.678)"
   ]
  },
  {
   "cell_type": "code",
   "execution_count": 193,
   "id": "bb42a036-ce57-4702-9293-ba835ba78566",
   "metadata": {},
   "outputs": [
    {
     "data": {
      "text/plain": [
       "True"
      ]
     },
     "execution_count": 193,
     "metadata": {},
     "output_type": "execute_result"
    }
   ],
   "source": [
    "bool(78.6)"
   ]
  },
  {
   "cell_type": "code",
   "execution_count": 195,
   "id": "935cb28e-3bc8-4cc5-b334-df32937561e2",
   "metadata": {},
   "outputs": [
    {
     "data": {
      "text/plain": [
       "True"
      ]
     },
     "execution_count": 195,
     "metadata": {},
     "output_type": "execute_result"
    }
   ],
   "source": [
    "bool(8+8j)"
   ]
  },
  {
   "cell_type": "code",
   "execution_count": 197,
   "id": "4ee51ebe-d449-4fb0-91ab-d9ce7a699144",
   "metadata": {},
   "outputs": [
    {
     "data": {
      "text/plain": [
       "True"
      ]
     },
     "execution_count": 197,
     "metadata": {},
     "output_type": "execute_result"
    }
   ],
   "source": [
    "bool(5+6j)"
   ]
  },
  {
   "cell_type": "code",
   "execution_count": 199,
   "id": "5f97d332-3695-4c7b-a4b8-cd79da66b102",
   "metadata": {},
   "outputs": [
    {
     "data": {
      "text/plain": [
       "False"
      ]
     },
     "execution_count": 199,
     "metadata": {},
     "output_type": "execute_result"
    }
   ],
   "source": [
    "bool(0)"
   ]
  },
  {
   "cell_type": "code",
   "execution_count": null,
   "id": "92af3b92-3bd0-4dd4-b982-09d4d7cc512d",
   "metadata": {},
   "outputs": [],
   "source": []
  }
 ],
 "metadata": {
  "kernelspec": {
   "display_name": "Python 3 (ipykernel)",
   "language": "python",
   "name": "python3"
  },
  "language_info": {
   "codemirror_mode": {
    "name": "ipython",
    "version": 3
   },
   "file_extension": ".py",
   "mimetype": "text/x-python",
   "name": "python",
   "nbconvert_exporter": "python",
   "pygments_lexer": "ipython3",
   "version": "3.12.4"
  }
 },
 "nbformat": 4,
 "nbformat_minor": 5
}
