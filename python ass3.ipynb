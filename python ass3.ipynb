{
 "cells": [
  {
   "cell_type": "code",
   "execution_count": 9,
   "id": "f0a6925c-0aa5-4d9d-b7d2-f892cb51707a",
   "metadata": {},
   "outputs": [
    {
     "name": "stdin",
     "output_type": "stream",
     "text": [
      "enter a number :  2\n"
     ]
    },
    {
     "name": "stdout",
     "output_type": "stream",
     "text": [
      "even\n"
     ]
    }
   ],
   "source": [
    "num=int(input(\"enter a number : \"))\n",
    "if num%2==0:\n",
    "    print(\"even\")\n",
    "else: \n",
    "    print(\"odd\")"
   ]
  },
  {
   "cell_type": "code",
   "execution_count": 13,
   "id": "9469a012-6257-47d1-938f-4577f3331a98",
   "metadata": {},
   "outputs": [
    {
     "name": "stdout",
     "output_type": "stream",
     "text": [
      "even\n"
     ]
    }
   ],
   "source": [
    "num=40\n",
    "if num%2==0:\n",
    "      print(\"even\")\n",
    "else:\n",
    "      print(\"odd\")"
   ]
  },
  {
   "cell_type": "code",
   "execution_count": null,
   "id": "80beb21d-1027-4eb2-ae9d-8da58a3d76bd",
   "metadata": {},
   "outputs": [],
   "source": [
    "#write a python program to check given charecter is vowel or not \n",
    "a=str(input(\"enter a charecter\"))\n",
    "if(a==\"a\"or a==\"e\"or a==\"i\"or a==\"o\"or a==\"u\"):\n",
    "   print(\"it is vowel\")\n",
    "else:\n",
    "   print(\"it is not vowel\")"
   ]
  },
  {
   "cell_type": "code",
   "execution_count": 29,
   "id": "5ef26bb8-a18f-4820-aee8-6ec680d3ce63",
   "metadata": {},
   "outputs": [
    {
     "name": "stdout",
     "output_type": "stream",
     "text": [
      "Radika\n"
     ]
    }
   ],
   "source": [
    "#write a python program to captalize the 1st letter in a word\n",
    "str=\"radika\"\n",
    "print(str.capitalize())"
   ]
  },
  {
   "cell_type": "code",
   "execution_count": 39,
   "id": "c2701db4-3159-4eb0-b6a1-957f6f516447",
   "metadata": {},
   "outputs": [
    {
     "name": "stdout",
     "output_type": "stream",
     "text": [
      "learning\n"
     ]
    }
   ],
   "source": [
    "#write apython program to find length of a longest word in a given sentence\n",
    "str=(\"iam learning python\")\n",
    "print(max(str.split(),key=len))"
   ]
  },
  {
   "cell_type": "code",
   "execution_count": 45,
   "id": "64500d10-482a-47e0-9501-4b518080a4ab",
   "metadata": {},
   "outputs": [
    {
     "name": "stdout",
     "output_type": "stream",
     "text": [
      "The list is empty\n"
     ]
    }
   ],
   "source": [
    "#write a python program to checkif list is empty or not\n",
    "a = []\n",
    "if len(a) == 0:\n",
    "    print(\"The list is empty\")\n",
    "else:\n",
    "    print(\"The list is not empty\")"
   ]
  },
  {
   "cell_type": "code",
   "execution_count": 47,
   "id": "8760d6a5-9ba7-4003-9ec7-6eafe9fea87d",
   "metadata": {},
   "outputs": [
    {
     "name": "stdout",
     "output_type": "stream",
     "text": [
      "squareroot of a number is 625\n"
     ]
    }
   ],
   "source": [
    "#write apython program to calculate the squareroot of a given number\n",
    "n=25\n",
    "sqrt=n**2\n",
    "print(\"squareroot of a number is\",sqrt)"
   ]
  },
  {
   "cell_type": "code",
   "execution_count": 49,
   "id": "21fa3628-c9d7-48a7-b562-2f938f7c862c",
   "metadata": {},
   "outputs": [
    {
     "name": "stdout",
     "output_type": "stream",
     "text": [
      "largest number in list 34\n"
     ]
    }
   ],
   "source": [
    "#find maximum number in a list\n",
    "list=[1,34,7,8,9,0,3,4,6]\n",
    "print(\"largest number in list\",max(list))"
   ]
  },
  {
   "cell_type": "code",
   "execution_count": 51,
   "id": "430078fd-e689-4c5a-98a9-3c72df27969b",
   "metadata": {},
   "outputs": [
    {
     "name": "stdout",
     "output_type": "stream",
     "text": [
      "abcdika\n"
     ]
    }
   ],
   "source": [
    "#replace all occarence charecter in alist\n",
    "input_string = \"radhika\"\n",
    "s1 = \"radh\"\n",
    "s2 = \"abcd\"\n",
    "input_string = input_string.replace(s1, s2)\n",
    "print(input_string)"
   ]
  },
  {
   "cell_type": "code",
   "execution_count": 63,
   "id": "63ffb73c-376f-4525-93a0-9a9e6631f1ae",
   "metadata": {},
   "outputs": [
    {
     "name": "stdout",
     "output_type": "stream",
     "text": [
      "{2, 3, 4}\n"
     ]
    }
   ],
   "source": [
    "\n",
    "#write apython program to find common elements between 2 listl1=[1,2,3,4,5,6]\n",
    "l2=[3,2,4,58,9,7]\n",
    "s1=set(l1)\n",
    "s2=set(l2)\n",
    "print(s1.intersection(s2))"
   ]
  },
  {
   "cell_type": "code",
   "execution_count": null,
   "id": "7d810042-a436-4763-b754-da96663e2894",
   "metadata": {},
   "outputs": [],
   "source": []
  }
 ],
 "metadata": {
  "kernelspec": {
   "display_name": "Python 3 (ipykernel)",
   "language": "python",
   "name": "python3"
  },
  "language_info": {
   "codemirror_mode": {
    "name": "ipython",
    "version": 3
   },
   "file_extension": ".py",
   "mimetype": "text/x-python",
   "name": "python",
   "nbconvert_exporter": "python",
   "pygments_lexer": "ipython3",
   "version": "3.12.4"
  }
 },
 "nbformat": 4,
 "nbformat_minor": 5
}
