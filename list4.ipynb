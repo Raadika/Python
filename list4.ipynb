{
 "cells": [
  {
   "cell_type": "markdown",
   "id": "d5d4756c-3b8c-4397-b833-ecddfc385dcf",
   "metadata": {},
   "source": [
    "List \n",
    "A list is a data structure in Python that is a mutable, or changeable, ordered sequence of elements. Each element or value that is inside of a list is called an item."
   ]
  },
  {
   "cell_type": "code",
   "execution_count": 79,
   "id": "f22424c1-cfec-4242-9bc2-391680a6177b",
   "metadata": {},
   "outputs": [
    {
     "data": {
      "text/plain": [
       "list"
      ]
     },
     "execution_count": 79,
     "metadata": {},
     "output_type": "execute_result"
    }
   ],
   "source": [
    "a=[1,2,3,4,5]\n",
    "type(a)"
   ]
  },
  {
   "cell_type": "code",
   "execution_count": 81,
   "id": "eba64b79-30fa-4093-8331-12ab0f99e8c7",
   "metadata": {},
   "outputs": [
    {
     "name": "stdout",
     "output_type": "stream",
     "text": [
      "<class 'list'>\n"
     ]
    }
   ],
   "source": [
    "#list is nothing but a collection of different datatype\n",
    "list=[1,2,3,4,5,6]\n",
    "print(type(list))"
   ]
  },
  {
   "cell_type": "code",
   "execution_count": 83,
   "id": "35f289d9-ccf4-49a0-b0a7-461f07aa15fa",
   "metadata": {},
   "outputs": [
    {
     "name": "stdout",
     "output_type": "stream",
     "text": [
      "[1.23, 4.5, 5, 890, 34.56]\n"
     ]
    }
   ],
   "source": [
    "list=[1.23, 4.5, 5,890,34.56]\n",
    "print(list)"
   ]
  },
  {
   "cell_type": "code",
   "execution_count": 85,
   "id": "c3771b19-d75b-4b75-b7cb-1d7eff9dee05",
   "metadata": {},
   "outputs": [
    {
     "name": "stdout",
     "output_type": "stream",
     "text": [
      "[(2+3j), (3-4j), (5+2j), (-2-3j)]\n"
     ]
    }
   ],
   "source": [
    "list=[2+3j,3-4j,5+2j,-2-3j]\n",
    "print(list)"
   ]
  },
  {
   "cell_type": "code",
   "execution_count": 87,
   "id": "9ed63f89-d11c-4c60-b87f-8ff0bff0013c",
   "metadata": {},
   "outputs": [
    {
     "name": "stdout",
     "output_type": "stream",
     "text": [
      "[True, False, True, False]\n"
     ]
    }
   ],
   "source": [
    "a=[5<6,4>5,45<67,78>98]\n",
    "print(a)"
   ]
  },
  {
   "cell_type": "code",
   "execution_count": 89,
   "id": "955f8a4c-6dc4-456e-a014-3482867f7008",
   "metadata": {},
   "outputs": [
    {
     "name": "stdout",
     "output_type": "stream",
     "text": [
      "[True, 2, (5+2j), 6, 8]\n"
     ]
    }
   ],
   "source": [
    "z=[3<4,2,5+2j,6,8]\n",
    "print(z)"
   ]
  },
  {
   "cell_type": "code",
   "execution_count": 91,
   "id": "739b0994-7bd6-4c2f-a36b-6b018640fa0e",
   "metadata": {},
   "outputs": [
    {
     "name": "stdout",
     "output_type": "stream",
     "text": [
      "[1, 2, 3, 4, 56]\n"
     ]
    }
   ],
   "source": [
    "tecks=[1,2,3,4,56]\n",
    "print(tecks)"
   ]
  },
  {
   "cell_type": "code",
   "execution_count": 93,
   "id": "ddee48b9-5182-4594-b108-376f48247e86",
   "metadata": {},
   "outputs": [
    {
     "name": "stdout",
     "output_type": "stream",
     "text": [
      "[True, 45, (2+3j), 4.78]\n"
     ]
    }
   ],
   "source": [
    "a=[67<89,45,2+3j,4.78]\n",
    "print(a)"
   ]
  },
  {
   "cell_type": "code",
   "execution_count": 95,
   "id": "b66a0fd6-9df9-46cc-aaf5-85689afb9ef6",
   "metadata": {},
   "outputs": [
    {
     "name": "stdout",
     "output_type": "stream",
     "text": [
      "[5.8, 9, 0.4, 3.25, (2+3j)]\n"
     ]
    }
   ],
   "source": [
    "u=[5.8,9,0.4,3.25,2+3j]\n",
    "print(u)"
   ]
  },
  {
   "cell_type": "code",
   "execution_count": 97,
   "id": "58cf53da-7721-40ff-8be3-b37a24267d89",
   "metadata": {},
   "outputs": [
    {
     "name": "stdout",
     "output_type": "stream",
     "text": [
      "[(-5+7j), (-7+8j), (9+10j)]\n"
     ]
    }
   ],
   "source": [
    "tecks=[-5+7j,-7+8j,9+10j]\n",
    "print(tecks)"
   ]
  },
  {
   "cell_type": "code",
   "execution_count": 99,
   "id": "7b48cf28-ba5f-4987-974a-4e5615833e34",
   "metadata": {},
   "outputs": [
    {
     "name": "stdout",
     "output_type": "stream",
     "text": [
      "2\n"
     ]
    }
   ],
   "source": [
    "#positive index:positive zero-based indexing is the fundamental method for accessing iterable items. As a result, an index starting at 0 may refer to any element in the iterable. \n",
    "#The first element in zero-based indexing has an index of 0, the second has an index of 1, and so on.it is calculated from left to right\n",
    "a=[1,2,3,4,5,6]\n",
    "a[1]\n",
    "print(a[1])"
   ]
  },
  {
   "cell_type": "code",
   "execution_count": 101,
   "id": "ee74bfed-4d6b-4094-91a7-f7d86d9c6342",
   "metadata": {},
   "outputs": [
    {
     "name": "stdout",
     "output_type": "stream",
     "text": [
      "8\n"
     ]
    }
   ],
   "source": [
    "a=[4,5,6,8,9,3]\n",
    "a[3]\n",
    "print(a[3])"
   ]
  },
  {
   "cell_type": "code",
   "execution_count": 103,
   "id": "6108d086-d143-43f1-bf6c-5430892dcfa8",
   "metadata": {},
   "outputs": [
    {
     "name": "stdout",
     "output_type": "stream",
     "text": [
      "(2+3j)\n"
     ]
    }
   ],
   "source": [
    "x=[5.89,0.94,3,45,2+3j,4<6]\n",
    "x[4]\n",
    "print(x[4])"
   ]
  },
  {
   "cell_type": "code",
   "execution_count": 105,
   "id": "5956bd7b-cb2c-4f56-ac96-1b5bbb423646",
   "metadata": {},
   "outputs": [
    {
     "name": "stdout",
     "output_type": "stream",
     "text": [
      "8\n"
     ]
    }
   ],
   "source": [
    "y=[4,7,8,9.08,2,45,7.8,9,0]\n",
    "y[2]\n",
    "print(y[2])"
   ]
  },
  {
   "cell_type": "code",
   "execution_count": 107,
   "id": "51aa4925-a796-4589-86d7-e9a7319141f0",
   "metadata": {},
   "outputs": [
    {
     "name": "stdout",
     "output_type": "stream",
     "text": [
      "9.06\n"
     ]
    }
   ],
   "source": [
    "n=[5.7,9.06,5,6.79]\n",
    "n[1]\n",
    "print(n[1])"
   ]
  },
  {
   "cell_type": "code",
   "execution_count": 109,
   "id": "23328045-5d09-4887-a3b2-6557f93c9b0a",
   "metadata": {},
   "outputs": [
    {
     "name": "stdout",
     "output_type": "stream",
     "text": [
      "6\n"
     ]
    }
   ],
   "source": [
    "#negitive index:lists are zero-indexed, meaning that the first element is at index 0, the second element at index 1, and so on.\n",
    "#Negative indexes, on the other hand, start from -1, where -1 represents the last element in the list, -2 represents the second-to-last element, and so forth.\n",
    "#it is calculated from right to left\n",
    "a=[1,2,3,4,5,6]\n",
    "a[-1]\n",
    "print(a[-1])"
   ]
  },
  {
   "cell_type": "code",
   "execution_count": 111,
   "id": "9ccc8bcf-61ee-47cb-9714-d3ef38f4a5ff",
   "metadata": {},
   "outputs": [
    {
     "name": "stdout",
     "output_type": "stream",
     "text": [
      "8\n"
     ]
    }
   ],
   "source": [
    "a=[4,5,6,8,9,3]\n",
    "a[-3]\n",
    "print(a[-3])"
   ]
  },
  {
   "cell_type": "code",
   "execution_count": 113,
   "id": "81f74e25-dab2-4996-b065-9c700d6e9bec",
   "metadata": {},
   "outputs": [
    {
     "name": "stdout",
     "output_type": "stream",
     "text": [
      "3\n"
     ]
    }
   ],
   "source": [
    "x=[5.89,0.94,3,45,2+3j,4<6]\n",
    "x[-4]\n",
    "print(x[-4])"
   ]
  },
  {
   "cell_type": "code",
   "execution_count": 115,
   "id": "83b47495-af13-4930-bd8a-7c8656214b6a",
   "metadata": {},
   "outputs": [
    {
     "name": "stdout",
     "output_type": "stream",
     "text": [
      "9\n"
     ]
    }
   ],
   "source": [
    "y=[4,7,8,9.08,2,45,7.8,9,0]\n",
    "y[-2]\n",
    "print(y[-2])"
   ]
  },
  {
   "cell_type": "code",
   "execution_count": 117,
   "id": "87a46bc0-f936-4183-8e0d-bb34a7e998b4",
   "metadata": {},
   "outputs": [
    {
     "name": "stdout",
     "output_type": "stream",
     "text": [
      "6.79\n"
     ]
    }
   ],
   "source": [
    "n=[5.7,9.06,5,6.79]\n",
    "n[-1]\n",
    "print(n[-1])"
   ]
  },
  {
   "cell_type": "code",
   "execution_count": 119,
   "id": "93cef233-dc50-47b3-8fb0-b647ac56ec87",
   "metadata": {},
   "outputs": [
    {
     "data": {
      "text/plain": [
       "[5, 6, 7]"
      ]
     },
     "execution_count": 119,
     "metadata": {},
     "output_type": "execute_result"
    }
   ],
   "source": [
    "#slicing:Python list slicing is fundamental concept that let us easily access specific elements in a list.\n",
    "index=[1,2,3,4,5,6,7,8,9]\n",
    "index[4:7]"
   ]
  },
  {
   "cell_type": "code",
   "execution_count": 121,
   "id": "1c5881d3-7c38-4a03-9576-aed4c615f7ce",
   "metadata": {},
   "outputs": [
    {
     "data": {
      "text/plain": [
       "[3, 4, 5, 6, 7, 8]"
      ]
     },
     "execution_count": 121,
     "metadata": {},
     "output_type": "execute_result"
    }
   ],
   "source": [
    "index[2:8]"
   ]
  },
  {
   "cell_type": "code",
   "execution_count": 123,
   "id": "e7564929-e662-4172-8ca5-aa69acbdd7e6",
   "metadata": {},
   "outputs": [
    {
     "name": "stdout",
     "output_type": "stream",
     "text": [
      "[1, 2, 3, 4, 5, 6]\n"
     ]
    }
   ],
   "source": [
    "#cancadination:Concatenation is the process of joining the elements of a particular data-structure in an end-to-end manner.\n",
    "g=[1,2,3]\n",
    "y=[4,5,6]\n",
    "l=g+y\n",
    "print(l)"
   ]
  },
  {
   "cell_type": "code",
   "execution_count": 125,
   "id": "e2bd8212-1a3c-4303-99ed-042f78d0ccef",
   "metadata": {},
   "outputs": [
    {
     "data": {
      "text/plain": [
       "[1, 2, 3, 1, 2, 3, 1, 2, 3, 1, 2, 3]"
      ]
     },
     "execution_count": 125,
     "metadata": {},
     "output_type": "execute_result"
    }
   ],
   "source": [
    "#repetation:Given a list, repeat each element in the list amount of times. \n",
    "g*4"
   ]
  },
  {
   "cell_type": "code",
   "execution_count": 127,
   "id": "41733df7-803b-4a69-ba5b-6f89d50e36ea",
   "metadata": {},
   "outputs": [
    {
     "name": "stdout",
     "output_type": "stream",
     "text": [
      "[(-5+7j), (-7+8j), (9+10j), 10]\n"
     ]
    }
   ],
   "source": [
    "#Methods\n",
    "#append:The append() method appends an element to the end of the list.syntax:list.append(elmnt)\n",
    "lst=[1,2,3,4,5,6,7,8,9]\n",
    "tecks.append(10)\n",
    "print(tecks)"
   ]
  },
  {
   "cell_type": "code",
   "execution_count": 131,
   "id": "7eed9ce7-c0f3-4c22-8539-e632a0c72db9",
   "metadata": {},
   "outputs": [
    {
     "name": "stdout",
     "output_type": "stream",
     "text": [
      "[1, 2, 3, 4, 5, 6, 7, 8, 9, 10]\n"
     ]
    }
   ],
   "source": [
    "data=[1,2,3,4,5,6,7,8,9]\n",
    "data.append(10)\n",
    "print(data)"
   ]
  },
  {
   "cell_type": "code",
   "execution_count": 143,
   "id": "d8581c55-e448-4bef-88b5-08b8d9e75007",
   "metadata": {},
   "outputs": [
    {
     "name": "stdout",
     "output_type": "stream",
     "text": [
      "[1, 2, 3, 4, 'true', 5, 6]\n"
     ]
    }
   ],
   "source": [
    "#Insert()\n",
    "#The insert() method inserts the specified value at the specified position.syntax:list.insert(pos, elmnt)\n",
    "science=[1,2,3,4,5,6]\n",
    "science.insert(4,'true')\n",
    "print(science)"
   ]
  },
  {
   "cell_type": "code",
   "execution_count": 145,
   "id": "70cce547-5f7f-400c-a460-31a27cf8dff9",
   "metadata": {},
   "outputs": [
    {
     "name": "stdout",
     "output_type": "stream",
     "text": [
      "[5.6, 23.4, 8, 9, 4]\n"
     ]
    }
   ],
   "source": [
    "rov=[5.6,7.98,23.4,8,9,4]\n",
    "rov.remove(7.98)\n",
    "print(rov)"
   ]
  },
  {
   "cell_type": "code",
   "execution_count": 147,
   "id": "b7734671-ad73-4bd8-813a-467b901583cc",
   "metadata": {},
   "outputs": [
    {
     "name": "stdout",
     "output_type": "stream",
     "text": [
      "[]\n"
     ]
    }
   ],
   "source": [
    "# clear() method removes all items from the List making it an empty/null list.\n",
    "true=[5,7,9,3,7,2]\n",
    "true.clear()\n",
    "print(true)"
   ]
  },
  {
   "cell_type": "code",
   "execution_count": 153,
   "id": "7beeed0a-194f-4e67-a573-8b3b5b46184b",
   "metadata": {},
   "outputs": [
    {
     "name": "stdout",
     "output_type": "stream",
     "text": [
      "2\n"
     ]
    }
   ],
   "source": [
    "#The count() method is used to find the number of times a specific element occurs in a list. \n",
    "app=[1,2,3,4,1,2,3,5,3,4]\n",
    "c=app.count(2)\n",
    "print(c)"
   ]
  },
  {
   "cell_type": "code",
   "execution_count": null,
   "id": "51178444-8841-409a-9922-3a0f4c7fd8f6",
   "metadata": {},
   "outputs": [],
   "source": []
  }
 ],
 "metadata": {
  "kernelspec": {
   "display_name": "Python 3 (ipykernel)",
   "language": "python",
   "name": "python3"
  },
  "language_info": {
   "codemirror_mode": {
    "name": "ipython",
    "version": 3
   },
   "file_extension": ".py",
   "mimetype": "text/x-python",
   "name": "python",
   "nbconvert_exporter": "python",
   "pygments_lexer": "ipython3",
   "version": "3.12.4"
  }
 },
 "nbformat": 4,
 "nbformat_minor": 5
}
