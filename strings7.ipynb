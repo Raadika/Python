{
 "cells": [
  {
   "cell_type": "code",
   "execution_count": null,
   "id": "653a19f7-4e1a-4b8c-b5af-cbab1f86c6a0",
   "metadata": {},
   "outputs": [],
   "source": [
    "#string:\n",
    "strings in python are surrounded by either single quotation marks, or double quotation marks.\n",
    "'hello' is the same as \"hello\".\n",
    "\n",
    "You can display a string literal with the print() function"
   ]
  },
  {
   "cell_type": "code",
   "execution_count": 1,
   "id": "eb0d7f94-89ad-4ce4-bdc3-3fcf4bf26032",
   "metadata": {},
   "outputs": [
    {
     "name": "stdout",
     "output_type": "stream",
     "text": [
      "Hello\n",
      "Hello\n"
     ]
    }
   ],
   "source": [
    "print(\"Hello\")\n",
    "print('Hello')"
   ]
  },
  {
   "cell_type": "code",
   "execution_count": null,
   "id": "0042b812-cded-47f7-ba6d-d750a05dbb09",
   "metadata": {},
   "outputs": [],
   "source": [
    "Quotes Inside Quotes\n",
    "You can use quotes inside a string, as long as they don't match the quotes surrounding the string:"
   ]
  },
  {
   "cell_type": "code",
   "execution_count": 3,
   "id": "6b72c663-9431-4645-9e35-79c4df1db106",
   "metadata": {},
   "outputs": [
    {
     "name": "stdout",
     "output_type": "stream",
     "text": [
      "It's good\n",
      "He is called 'rude'\n",
      "He is called \"rude\"\n"
     ]
    }
   ],
   "source": [
    "print(\"It's good\")\n",
    "print(\"He is called 'rude'\")\n",
    "print('He is called \"rude\"')"
   ]
  },
  {
   "cell_type": "code",
   "execution_count": null,
   "id": "a20b3ea7-d526-4c96-9065-261bcd113c22",
   "metadata": {},
   "outputs": [],
   "source": [
    "Assign String to a Variable\n",
    "Assigning a string to a variable is done with the variable name followed by an equal sign and the string:"
   ]
  },
  {
   "cell_type": "code",
   "execution_count": 5,
   "id": "0bea5fcd-ce40-43af-9336-53e4816afb4d",
   "metadata": {},
   "outputs": [
    {
     "name": "stdout",
     "output_type": "stream",
     "text": [
      "Hai\n"
     ]
    }
   ],
   "source": [
    "a = \"Hai\"\n",
    "print(a)"
   ]
  },
  {
   "cell_type": "code",
   "execution_count": null,
   "id": "568043da-2dbe-4248-b927-0835855e90fe",
   "metadata": {},
   "outputs": [],
   "source": [
    "Multiline Strings\n",
    "You can assign a multiline string to a variable by using three quotes:"
   ]
  },
  {
   "cell_type": "code",
   "execution_count": 7,
   "id": "78ed7d44-901a-465f-9900-89af4069cfe0",
   "metadata": {},
   "outputs": [
    {
     "name": "stdout",
     "output_type": "stream",
     "text": [
      "You can assign a multiline string to a variable by using three quotes\n"
     ]
    }
   ],
   "source": [
    "a=\"\"\"You can assign a multiline string to a variable by using three quotes\"\"\"\n",
    "print(a)"
   ]
  },
  {
   "cell_type": "code",
   "execution_count": 13,
   "id": "d1028791-c5fa-493e-8347-c5fd80e43f18",
   "metadata": {},
   "outputs": [
    {
     "data": {
      "text/plain": [
       "'m'"
      ]
     },
     "execution_count": 13,
     "metadata": {},
     "output_type": "execute_result"
    }
   ],
   "source": [
    "#asscessing elements in string\n",
    "str=(\"iam learning python\")\n",
    "str[2]"
   ]
  },
  {
   "cell_type": "code",
   "execution_count": 15,
   "id": "0c00470c-013c-4868-918b-44485909898a",
   "metadata": {},
   "outputs": [
    {
     "data": {
      "text/plain": [
       "'a'"
      ]
     },
     "execution_count": 15,
     "metadata": {},
     "output_type": "execute_result"
    }
   ],
   "source": [
    "word=(\"iam learning data science\")\n",
    "word[-9]"
   ]
  },
  {
   "cell_type": "code",
   "execution_count": 17,
   "id": "2a6c3ede-fa37-486a-aad9-8eef996af2b9",
   "metadata": {},
   "outputs": [
    {
     "data": {
      "text/plain": [
       "'earning data science'"
      ]
     },
     "execution_count": 17,
     "metadata": {},
     "output_type": "execute_result"
    }
   ],
   "source": [
    "#by using slicing\n",
    "word[5:]"
   ]
  },
  {
   "cell_type": "code",
   "execution_count": 19,
   "id": "8abf2762-4072-42de-af18-d48f3f5f0112",
   "metadata": {},
   "outputs": [
    {
     "data": {
      "text/plain": [
       "'iam learning data scien'"
      ]
     },
     "execution_count": 19,
     "metadata": {},
     "output_type": "execute_result"
    }
   ],
   "source": [
    "word[:23]"
   ]
  },
  {
   "cell_type": "code",
   "execution_count": 21,
   "id": "51446646-dc32-487b-a657-97532ae0711a",
   "metadata": {},
   "outputs": [
    {
     "data": {
      "text/plain": [
       "'learning data science'"
      ]
     },
     "execution_count": 21,
     "metadata": {},
     "output_type": "execute_result"
    }
   ],
   "source": [
    "word[4:]"
   ]
  },
  {
   "cell_type": "code",
   "execution_count": null,
   "id": "0d87e014-a797-4259-b0d4-efbc2fd7179b",
   "metadata": {},
   "outputs": [],
   "source": [
    "Python String format() Method \n",
    "The format() method formats the specified value(s) and insert them inside the string's placeholder.\n",
    "\n",
    "The placeholder is defined using curly brackets: {}. Read more about the placeholders in the Placeholder section below.\n",
    "\n",
    "The format() method returns the formatted string.\n",
    "The Placeholders\n",
    "The placeholders can be identified using named indexes {price}, numbered indexes {0}, or even empty placeholders {}.\n"
   ]
  },
  {
   "cell_type": "code",
   "execution_count": 27,
   "id": "9a3bc569-e8b2-4843-bd87-4dbee326989c",
   "metadata": {},
   "outputs": [
    {
     "name": "stdout",
     "output_type": "stream",
     "text": [
      "My name is sai, I'm 31\n",
      "My name is sai, I'm 31\n",
      "My name is sai, I'm 31\n"
     ]
    }
   ],
   "source": [
    "txt1 = \"My name is {fname}, I'm {age}\".format(fname = \"sai\", age = 31)\n",
    "txt2 = \"My name is {0}, I'm {1}\".format(\"sai\",31)\n",
    "txt3 = \"My name is {}, I'm {}\".format(\"sai\",31)\n",
    "print(txt1)\n",
    "print(txt2)\n",
    "print(txt3)"
   ]
  },
  {
   "cell_type": "code",
   "execution_count": null,
   "id": "448f0db0-0dc0-4eb4-be79-20c7d0495055",
   "metadata": {},
   "outputs": [],
   "source": [
    "Python String count() Method\n",
    "Return the number of times the value \"apple\" appears in the string:"
   ]
  },
  {
   "cell_type": "code",
   "execution_count": 33,
   "id": "5d518469-e5e0-44c4-9ceb-b492e1c04784",
   "metadata": {},
   "outputs": [
    {
     "name": "stdout",
     "output_type": "stream",
     "text": [
      "2\n"
     ]
    }
   ],
   "source": [
    "txt = \"I love apples, apple are my favorite fruit\"\n",
    "a = txt.count(\"apple\")\n",
    "\n",
    "print(a)"
   ]
  },
  {
   "cell_type": "code",
   "execution_count": null,
   "id": "a4e74255-0152-4303-a39e-3a50f5006597",
   "metadata": {},
   "outputs": [],
   "source": [
    "Python String lower() Method\n",
    "Lower case the string\n"
   ]
  },
  {
   "cell_type": "code",
   "execution_count": 37,
   "id": "9bdfdb24-efff-43e8-8889-a5a716078046",
   "metadata": {},
   "outputs": [
    {
     "name": "stdout",
     "output_type": "stream",
     "text": [
      "hello hi friends\n"
     ]
    }
   ],
   "source": [
    "txt = \"Hello HI FRIENDS\"\n",
    "\n",
    "a= txt.lower()\n",
    "\n",
    "print(a)"
   ]
  },
  {
   "cell_type": "code",
   "execution_count": null,
   "id": "b17e6363-a2d3-4f8e-a082-d6bfdd6f8b4a",
   "metadata": {},
   "outputs": [],
   "source": [
    "Python String upper() Method\n",
    "The upper() method returns a string where all characters are in upper case.\n",
    "\n",
    " Symbols and Numbers are ignored.\n",
    "string.upper()"
   ]
  },
  {
   "cell_type": "code",
   "execution_count": 39,
   "id": "7660adf7-d9b3-4d7b-8cd8-c1a290cc3452",
   "metadata": {},
   "outputs": [
    {
     "name": "stdout",
     "output_type": "stream",
     "text": [
      "HELLO HI FRIENDS\n"
     ]
    }
   ],
   "source": [
    "txt = \"Hello HI FRIENDS\"\n",
    "\n",
    "a= txt.upper()\n",
    "\n",
    "print(a)"
   ]
  },
  {
   "cell_type": "code",
   "execution_count": null,
   "id": "b3de0e99-1522-4250-b6c2-65df65a8fded",
   "metadata": {},
   "outputs": [],
   "source": [
    "Python String index() Method\n",
    "The index() method finds the first occurrence of the specified value.\n",
    "\n",
    "The index() method raises an exception if the value is not found.\n",
    "\n",
    "The index() method is almost the same as the find() method, the only difference is that the find() method returns -1 if the value is not found. (See example below)\n",
    "string.index(value, start, end)"
   ]
  },
  {
   "cell_type": "code",
   "execution_count": 41,
   "id": "cf1930ac-d05d-4856-9271-79303b57f67f",
   "metadata": {},
   "outputs": [
    {
     "name": "stdout",
     "output_type": "stream",
     "text": [
      "7\n"
     ]
    }
   ],
   "source": [
    "txt = \"Hello, welcome to my world.\"\n",
    "\n",
    "x = txt.index(\"welcome\")\n",
    "\n",
    "print(x)"
   ]
  },
  {
   "cell_type": "code",
   "execution_count": null,
   "id": "90fc9a71-887e-4557-8ee0-1755178914d7",
   "metadata": {},
   "outputs": [],
   "source": []
  }
 ],
 "metadata": {
  "kernelspec": {
   "display_name": "Python 3 (ipykernel)",
   "language": "python",
   "name": "python3"
  },
  "language_info": {
   "codemirror_mode": {
    "name": "ipython",
    "version": 3
   },
   "file_extension": ".py",
   "mimetype": "text/x-python",
   "name": "python",
   "nbconvert_exporter": "python",
   "pygments_lexer": "ipython3",
   "version": "3.12.4"
  }
 },
 "nbformat": 4,
 "nbformat_minor": 5
}
