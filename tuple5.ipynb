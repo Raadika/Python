{
 "cells": [
  {
   "cell_type": "code",
   "execution_count": null,
   "id": "2ab178b0-64f2-4c33-b603-6e4caedff619",
   "metadata": {},
   "outputs": [],
   "source": [
    "Tuples are used to store multiple items in a single variable.\n",
    "\n",
    "Tuple is one of 4 built-in data types in Python used to store collections of data, the other 3 are List, Set, and Dictionary, all with different qualities and usage.\n",
    "\n",
    "A tuple is a collection which is ordered and unchangeable.\n",
    "\n",
    "Tuples are written with round brackets."
   ]
  },
  {
   "cell_type": "code",
   "execution_count": 1,
   "id": "5e3faa76-113b-4d97-9952-98d5cf86678a",
   "metadata": {},
   "outputs": [
    {
     "data": {
      "text/plain": [
       "tuple"
      ]
     },
     "execution_count": 1,
     "metadata": {},
     "output_type": "execute_result"
    }
   ],
   "source": [
    "tup=(1,2,3,4,5,6)\n",
    "type(tup)"
   ]
  },
  {
   "cell_type": "code",
   "execution_count": 3,
   "id": "3076a3e3-e378-4b2d-ac48-9309665257f7",
   "metadata": {},
   "outputs": [
    {
     "name": "stdout",
     "output_type": "stream",
     "text": [
      "('pineapple', 'banana', 'cherry')\n"
     ]
    }
   ],
   "source": [
    "thistuple = (\"pineapple\", \"banana\", \"cherry\")\n",
    "print(thistuple)"
   ]
  },
  {
   "cell_type": "code",
   "execution_count": 5,
   "id": "02805c18-8478-4247-9b0e-22a6ca55719b",
   "metadata": {},
   "outputs": [
    {
     "name": "stdout",
     "output_type": "stream",
     "text": [
      "('apple', 'banana', 'cherry', 'apple', 'cherry')\n"
     ]
    }
   ],
   "source": [
    "#Tuples allow duplicate values\n",
    "thistuple = (\"apple\", \"banana\", \"cherry\", \"apple\", \"cherry\")\n",
    "print(thistuple)\n"
   ]
  },
  {
   "cell_type": "code",
   "execution_count": 7,
   "id": "42328297-78d8-4285-9528-42150a146e39",
   "metadata": {},
   "outputs": [
    {
     "name": "stdout",
     "output_type": "stream",
     "text": [
      "3\n"
     ]
    }
   ],
   "source": [
    "#To determine how many items a tuple has, use the len() function\n",
    "thistuple = (\"apple\", \"banana\", \"cherry\")\n",
    "print(len(thistuple))\n"
   ]
  },
  {
   "cell_type": "code",
   "execution_count": 11,
   "id": "c1da2fd9-6bc2-4347-90db-07e5c648e71e",
   "metadata": {},
   "outputs": [
    {
     "name": "stdout",
     "output_type": "stream",
     "text": [
      "<class 'tuple'>\n"
     ]
    }
   ],
   "source": [
    "#One item tuple, remember the comma\n",
    "thistuple=(\"banana\",)\n",
    "print(type(thistuple))"
   ]
  },
  {
   "cell_type": "code",
   "execution_count": 19,
   "id": "70557147-7458-4438-af7e-f02871ae7e88",
   "metadata": {},
   "outputs": [
    {
     "name": "stdout",
     "output_type": "stream",
     "text": [
      "('cat', 'rat', 'dog')\n",
      "(1, 2, 3, 4, 5, 6)\n",
      "(True, False, False)\n"
     ]
    }
   ],
   "source": [
    "#String, int and boolean data types\n",
    "tuple1=(\"cat\",\"rat\", \"dog\")\n",
    "tuple2=(1,2,3,4,5,6)\n",
    "tuple3=(True, False, False)\n",
    "print(tuple1)\n",
    "print(tuple2)\n",
    "print(tuple3)"
   ]
  },
  {
   "cell_type": "code",
   "execution_count": 21,
   "id": "115443ac-ff72-48d2-8203-868983729c85",
   "metadata": {},
   "outputs": [
    {
     "name": "stdout",
     "output_type": "stream",
     "text": [
      "('asd', 45, True, 40, 'cat')\n"
     ]
    }
   ],
   "source": [
    "#A tuple with strings, integers and boolean values\n",
    "tuple1 = (\"asd\", 45, True, 40, \"cat\")\n",
    "print(tuple1)"
   ]
  },
  {
   "cell_type": "code",
   "execution_count": 23,
   "id": "b860ac7d-834e-4639-9814-7ccfc8e1d2cd",
   "metadata": {},
   "outputs": [
    {
     "name": "stdout",
     "output_type": "stream",
     "text": [
      "('apple',)\n"
     ]
    }
   ],
   "source": [
    "tuple=(\"apple\",)\n",
    "print(tuple)"
   ]
  },
  {
   "cell_type": "code",
   "execution_count": 27,
   "id": "808d275f-961a-43db-b076-666ab48899a0",
   "metadata": {},
   "outputs": [
    {
     "name": "stdout",
     "output_type": "stream",
     "text": [
      "('true', 23, 14, 'at', 'bat')\n"
     ]
    }
   ],
   "source": [
    "tuple2=(\"true\",23,14,\"at\",\"bat\")\n",
    "print(tuple2)"
   ]
  },
  {
   "cell_type": "code",
   "execution_count": 29,
   "id": "03226263-652c-43b9-ae09-843b93136eea",
   "metadata": {},
   "outputs": [
    {
     "data": {
      "text/plain": [
       "3"
      ]
     },
     "execution_count": 29,
     "metadata": {},
     "output_type": "execute_result"
    }
   ],
   "source": [
    "#accessing elements from tuple\n",
    "tuple=(1,2,3,4,5,6,9,6,2)\n",
    "tup[2]\n"
   ]
  },
  {
   "cell_type": "code",
   "execution_count": 33,
   "id": "64ea44e2-7573-4e58-9fc5-9fddb4dde4e2",
   "metadata": {},
   "outputs": [
    {
     "data": {
      "text/plain": [
       "4"
      ]
     },
     "execution_count": 33,
     "metadata": {},
     "output_type": "execute_result"
    }
   ],
   "source": [
    "tup[3]"
   ]
  },
  {
   "cell_type": "code",
   "execution_count": 35,
   "id": "332d01f3-c97f-466a-93b6-2cb015214c13",
   "metadata": {},
   "outputs": [
    {
     "data": {
      "text/plain": [
       "6"
      ]
     },
     "execution_count": 35,
     "metadata": {},
     "output_type": "execute_result"
    }
   ],
   "source": [
    "tup[5]\n"
   ]
  },
  {
   "cell_type": "code",
   "execution_count": 37,
   "id": "7f080ba2-464d-414a-8f4f-f38e4e57410c",
   "metadata": {},
   "outputs": [
    {
     "data": {
      "text/plain": [
       "2"
      ]
     },
     "execution_count": 37,
     "metadata": {},
     "output_type": "execute_result"
    }
   ],
   "source": [
    "tup[1]"
   ]
  },
  {
   "cell_type": "code",
   "execution_count": 43,
   "id": "cdeac748-ca39-4359-8554-2f7d5d4232f2",
   "metadata": {},
   "outputs": [
    {
     "data": {
      "text/plain": [
       "6"
      ]
     },
     "execution_count": 43,
     "metadata": {},
     "output_type": "execute_result"
    }
   ],
   "source": [
    "tup[5]"
   ]
  },
  {
   "cell_type": "code",
   "execution_count": 53,
   "id": "a57cc63f-1036-4817-877a-9c2f89213810",
   "metadata": {},
   "outputs": [
    {
     "data": {
      "text/plain": [
       "5"
      ]
     },
     "execution_count": 53,
     "metadata": {},
     "output_type": "execute_result"
    }
   ],
   "source": [
    "tup[-2]"
   ]
  },
  {
   "cell_type": "code",
   "execution_count": 55,
   "id": "a88429c4-bdf6-4967-9a65-b1a3af7031eb",
   "metadata": {},
   "outputs": [
    {
     "data": {
      "text/plain": [
       "2"
      ]
     },
     "execution_count": 55,
     "metadata": {},
     "output_type": "execute_result"
    }
   ],
   "source": [
    "tup[-5]"
   ]
  },
  {
   "cell_type": "code",
   "execution_count": 59,
   "id": "94837092-683a-41ad-a4d9-c2874c70470d",
   "metadata": {},
   "outputs": [
    {
     "data": {
      "text/plain": [
       "6"
      ]
     },
     "execution_count": 59,
     "metadata": {},
     "output_type": "execute_result"
    }
   ],
   "source": [
    "tup[-1]"
   ]
  },
  {
   "cell_type": "code",
   "execution_count": 61,
   "id": "f44c55ac-bc31-42a1-b300-ef1fb6f5eb9b",
   "metadata": {},
   "outputs": [
    {
     "data": {
      "text/plain": [
       "4"
      ]
     },
     "execution_count": 61,
     "metadata": {},
     "output_type": "execute_result"
    }
   ],
   "source": [
    "tup[-3]"
   ]
  },
  {
   "cell_type": "code",
   "execution_count": 65,
   "id": "0d4db445-e2bf-4534-b31c-a7eba0cc4733",
   "metadata": {},
   "outputs": [
    {
     "data": {
      "text/plain": [
       "3"
      ]
     },
     "execution_count": 65,
     "metadata": {},
     "output_type": "execute_result"
    }
   ],
   "source": [
    "tup[-4]"
   ]
  },
  {
   "cell_type": "code",
   "execution_count": 67,
   "id": "e4496397-7a3e-49af-a5a4-da4a7c1283d2",
   "metadata": {},
   "outputs": [
    {
     "data": {
      "text/plain": [
       "(3, 4)"
      ]
     },
     "execution_count": 67,
     "metadata": {},
     "output_type": "execute_result"
    }
   ],
   "source": [
    "#positive slicing\n",
    "tuple=(5,8,9,3,4,5,7,2,5,6,7)\n",
    "tup[2:4]"
   ]
  },
  {
   "cell_type": "code",
   "execution_count": 69,
   "id": "9fb4f9c0-ecd8-4c79-90f3-c6384ba049a5",
   "metadata": {},
   "outputs": [
    {
     "data": {
      "text/plain": [
       "(2, 3, 4, 5)"
      ]
     },
     "execution_count": 69,
     "metadata": {},
     "output_type": "execute_result"
    }
   ],
   "source": [
    "tup[1:5]"
   ]
  },
  {
   "cell_type": "code",
   "execution_count": 71,
   "id": "ec487296-8b33-494d-93f2-6b5f1f5f2bca",
   "metadata": {},
   "outputs": [
    {
     "data": {
      "text/plain": [
       "(3, 4, 5, 6)"
      ]
     },
     "execution_count": 71,
     "metadata": {},
     "output_type": "execute_result"
    }
   ],
   "source": [
    "tup[2:6]"
   ]
  },
  {
   "cell_type": "code",
   "execution_count": 75,
   "id": "c2bff582-533f-406b-8b9c-7f8b483a07a5",
   "metadata": {},
   "outputs": [
    {
     "data": {
      "text/plain": [
       "(1, 2, 3, 4)"
      ]
     },
     "execution_count": 75,
     "metadata": {},
     "output_type": "execute_result"
    }
   ],
   "source": [
    "tup[:4]"
   ]
  },
  {
   "cell_type": "code",
   "execution_count": 77,
   "id": "7bd7cfdb-f6a0-41ef-a4fe-da371aa40966",
   "metadata": {},
   "outputs": [
    {
     "data": {
      "text/plain": [
       "(5, 6)"
      ]
     },
     "execution_count": 77,
     "metadata": {},
     "output_type": "execute_result"
    }
   ],
   "source": [
    "tup[4:]"
   ]
  },
  {
   "cell_type": "code",
   "execution_count": null,
   "id": "db734bc9-d7ab-4c36-9115-a70f31813aef",
   "metadata": {},
   "outputs": [],
   "source": [
    "#tring to updae any value in tuple, because it is immutable we can chane any thimg"
   ]
  },
  {
   "cell_type": "code",
   "execution_count": 85,
   "id": "f480e403-05b0-4ff1-bf31-efd9c4b81da8",
   "metadata": {},
   "outputs": [
    {
     "ename": "AttributeError",
     "evalue": "'tuple' object has no attribute 'update'",
     "output_type": "error",
     "traceback": [
      "\u001b[1;31m---------------------------------------------------------------------------\u001b[0m",
      "\u001b[1;31mAttributeError\u001b[0m                            Traceback (most recent call last)",
      "Cell \u001b[1;32mIn[85], line 2\u001b[0m\n\u001b[0;32m      1\u001b[0m \u001b[38;5;28mtuple\u001b[39m\u001b[38;5;241m=\u001b[39m(\u001b[38;5;241m1\u001b[39m,\u001b[38;5;241m2\u001b[39m,\u001b[38;5;241m3\u001b[39m,\u001b[38;5;241m4\u001b[39m,\u001b[38;5;241m5\u001b[39m,\u001b[38;5;241m6\u001b[39m,\u001b[38;5;241m7\u001b[39m)\n\u001b[1;32m----> 2\u001b[0m tup\u001b[38;5;241m.\u001b[39mupdate[\u001b[38;5;241m2\u001b[39m,\u001b[38;5;124m\"\u001b[39m\u001b[38;5;124mtecks\u001b[39m\u001b[38;5;124m\"\u001b[39m]\n",
      "\u001b[1;31mAttributeError\u001b[0m: 'tuple' object has no attribute 'update'"
     ]
    }
   ],
   "source": [
    "tuple=(1,2,3,4,5,6,7)\n",
    "tup.update[2,\"tecks\"]"
   ]
  },
  {
   "cell_type": "code",
   "execution_count": 89,
   "id": "943f36e8-0548-42e4-b4e0-d0c952ef0de2",
   "metadata": {},
   "outputs": [
    {
     "data": {
      "text/plain": [
       "2"
      ]
     },
     "execution_count": 89,
     "metadata": {},
     "output_type": "execute_result"
    }
   ],
   "source": [
    "#tuple methods\n",
    "\"\"\"Python Tuple count() Method, Return the number of times the value 5 appears in the tuple . \n",
    "The count() method returns the number of times a specified value appears in the tuple.\"\"\"\n",
    "tuple=(1,2,3,6,7,8,9,6)\n",
    "tuple.count(6)"
   ]
  },
  {
   "cell_type": "code",
   "execution_count": 91,
   "id": "42855859-e912-4836-8f83-5294ab5a6bf9",
   "metadata": {},
   "outputs": [
    {
     "data": {
      "text/plain": [
       "3"
      ]
     },
     "execution_count": 91,
     "metadata": {},
     "output_type": "execute_result"
    }
   ],
   "source": [
    "\"\"\"The index() method finds the first occurrence of the specified value.\n",
    "\n",
    "The index() method raises an exception if the value is not found.\"\"\"\n",
    "tuple=(1,2,3,6,7,8,9,6)\n",
    "tuple.index(6)"
   ]
  },
  {
   "cell_type": "code",
   "execution_count": null,
   "id": "ba57d328-86c5-456b-bac8-84be1d0d7590",
   "metadata": {},
   "outputs": [],
   "source": []
  }
 ],
 "metadata": {
  "kernelspec": {
   "display_name": "Python 3 (ipykernel)",
   "language": "python",
   "name": "python3"
  },
  "language_info": {
   "codemirror_mode": {
    "name": "ipython",
    "version": 3
   },
   "file_extension": ".py",
   "mimetype": "text/x-python",
   "name": "python",
   "nbconvert_exporter": "python",
   "pygments_lexer": "ipython3",
   "version": "3.12.4"
  }
 },
 "nbformat": 4,
 "nbformat_minor": 5
}
