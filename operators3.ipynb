{
 "cells": [
  {
   "cell_type": "code",
   "execution_count": 1,
   "id": "d4c0981d-e9e3-4d6c-ace9-512343009673",
   "metadata": {},
   "outputs": [
    {
     "name": "stdout",
     "output_type": "stream",
     "text": [
      "11\n"
     ]
    }
   ],
   "source": [
    "print(5+6)"
   ]
  },
  {
   "cell_type": "code",
   "execution_count": 3,
   "id": "0f09cdb2-ebf1-40c1-a226-9388231d14e7",
   "metadata": {},
   "outputs": [
    {
     "name": "stdout",
     "output_type": "stream",
     "text": [
      "0\n"
     ]
    }
   ],
   "source": [
    "print(34&8)"
   ]
  },
  {
   "cell_type": "code",
   "execution_count": 7,
   "id": "88114a84-32dc-4020-a5b7-8a8965827e54",
   "metadata": {},
   "outputs": [
    {
     "name": "stdout",
     "output_type": "stream",
     "text": [
      "521\n"
     ]
    }
   ],
   "source": [
    "\"\"\"\n",
    "777=01100001001\n",
    "555=01000101011\n",
    "----------------\n",
    "521=01000001001\n",
    "=================\n",
    "\"\"\"\n",
    "print(777&555)"
   ]
  },
  {
   "cell_type": "code",
   "execution_count": 10,
   "id": "15c5b9a0-88a9-49d6-9fe4-034fadac4f4e",
   "metadata": {},
   "outputs": [
    {
     "name": "stdout",
     "output_type": "stream",
     "text": [
      "384\n"
     ]
    }
   ],
   "source": [
    "\"\"\" or operator for 256| 128\n",
    "256=100000000\n",
    "128=010000000\n",
    "--------------\n",
    "384=110000000\n",
    "==============\n",
    "\"\"\"\n",
    "print(256|128)"
   ]
  },
  {
   "cell_type": "code",
   "execution_count": 12,
   "id": "8bf1ce58-4e50-4171-99a5-d63ace2cb090",
   "metadata": {},
   "outputs": [
    {
     "name": "stdout",
     "output_type": "stream",
     "text": [
      "708\n"
     ]
    }
   ],
   "source": [
    "\"\"\"\n",
    "XOR operator for 457^781\n",
    "781=0110000111\n",
    "457=0011100101\n",
    "-----------------\n",
    "708=0101100010\n",
    "===============\n",
    "\"\"\"\n",
    "print(457^781)"
   ]
  },
  {
   "cell_type": "code",
   "execution_count": 14,
   "id": "b2986703-69c5-4007-982d-fbcb5e9079c4",
   "metadata": {},
   "outputs": [
    {
     "data": {
      "text/plain": [
       "-972"
      ]
     },
     "execution_count": 14,
     "metadata": {},
     "output_type": "execute_result"
    }
   ],
   "source": [
    "\"\"\"\n",
    "NOT OPERATOR\n",
    "~(971)\n",
    "~(971+1)\n",
    "-972\n",
    "\"\"\"\n",
    "n=971\n",
    "-(n+1)\n"
   ]
  },
  {
   "cell_type": "code",
   "execution_count": 16,
   "id": "7c4130cc-3675-4b25-b0aa-6cc5a2c0d72d",
   "metadata": {},
   "outputs": [
    {
     "data": {
      "text/plain": [
       "3128"
      ]
     },
     "execution_count": 16,
     "metadata": {},
     "output_type": "execute_result"
    }
   ],
   "source": [
    "\"\"\"\n",
    "left shift operator<<\n",
    "391<<3\n",
    "391=0110001010\n",
    "left shift add three zeros 0110001010000\n",
    "391=011000101000\n",
    "\"\"\"\n",
    "391<<3"
   ]
  },
  {
   "cell_type": "code",
   "execution_count": 20,
   "id": "f1e2f239-a6b3-40e4-8eb1-9ed347197163",
   "metadata": {},
   "outputs": [
    {
     "data": {
      "text/plain": [
       "249"
      ]
     },
     "execution_count": 20,
     "metadata": {},
     "output_type": "execute_result"
    }
   ],
   "source": [
    "\"\"\" \n",
    "right shif operator\n",
    "999>>2\n",
    "999=0111110011\n",
    "right shift remove 2 places\n",
    "249=01111100\n",
    "\"\"\"\n",
    "999>>2"
   ]
  },
  {
   "cell_type": "code",
   "execution_count": null,
   "id": "c653b434-cc72-42ae-ab60-9667ef172158",
   "metadata": {},
   "outputs": [],
   "source": []
  }
 ],
 "metadata": {
  "kernelspec": {
   "display_name": "Python 3 (ipykernel)",
   "language": "python",
   "name": "python3"
  },
  "language_info": {
   "codemirror_mode": {
    "name": "ipython",
    "version": 3
   },
   "file_extension": ".py",
   "mimetype": "text/x-python",
   "name": "python",
   "nbconvert_exporter": "python",
   "pygments_lexer": "ipython3",
   "version": "3.12.4"
  }
 },
 "nbformat": 4,
 "nbformat_minor": 5
}
